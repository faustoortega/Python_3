{
 "cells": [
  {
   "cell_type": "markdown",
   "metadata": {},
   "source": [
    "# Introducción"
   ]
  },
  {
   "cell_type": "markdown",
   "metadata": {},
   "source": [
    "### Que es Python?\n",
    "\n",
    "Python es un lenguaje de programación poderoso y fácil de aprender. Cuenta con estructuras de datos eficientes y de alto nivel y un enfoque simple pero efectivo a la programación orientada a objetos. La elegante sintaxis de Python y su tipado dinámico, junto con su naturaleza interpretada, hacen de éste un lenguaje ideal para scripting y desarrollo rápido de aplicaciones en diversas áreas y sobre la mayoría de las plataformas.\n",
    "\n",
    "(Tutorial de Python por Guido Van Rossum)\n",
    "\n",
    "Básicamente, Python es un lenguaje de programación de alto nivel,\n",
    "**interpretado y multipropósito**. \n",
    "En los últimos años su utilización ha ido\n",
    "constantemente creciendo y en la actualidad es uno de los lenguajes de\n",
    "programación más empleados para el desarrollo de software.\n",
    "\n",
    "Python puede ser utilizado en diversas plataformas y sistemas operativos,\n",
    "entre los que podemos destacar lo más populares, como Windows, Mac OS X y\n",
    "Linux. Pero, además, Python también puede funcionar en smartphones, Nokia\n",
    "desarrolló un intérprete de este lenguaje para su sistema operativo Symbian.\n",
    "\n",
    "¿Tiene Python un ámbito específico? Algunos lenguajes de programación sí\n",
    "que lo tienen. Por ejemplo, PHP fue ideado para desarrollar aplicaciones web.\n",
    "Sin embargo, este no es el caso de Python. Con este lenguaje podemos\n",
    "desarrollar software para aplicaciones científicas, para comunicaciones de red,\n",
    "para aplicaciones de escritorio con Interfaz gráfica de usuario (GUI), para crear\n",
    "juegos, para smartphones y por supuesto, para aplicaciones web.\n",
    "\n",
    "<img src=\"img/python.png\">\n",
    "\n",
    "Empresas y organizaciones del calibre de Industrial **la NASA, Google, Yahoo!, Red Hat y Nokia** hacen uso intensivo de este\n",
    "lenguaje para desarrollar sus productos y servicios. Esto demuestra que Python\n",
    "puede ser utilizado en diversos tipos de sectores, con independencia de su\n",
    "actividad empresarial.\n",
    "\n",
    "Entre las principales razones para elegir Python, son muchos los que\n",
    "argumentan que sus principales características lo convierten en un lenguaje muy\n",
    "productivo. **Se trata de un lenguaje potente, flexible y con una sintaxis clara y\n",
    "Además, no requiere dedicar tiempo a su compilación debido a que es\n",
    "interpretado.**\n",
    "\n",
    "Python es open source, **cualquiera puede contribuir a su desarrollo y\n",
    "divulgación**. Además, no es necesario pagar ninguna licencia para distribuir\n",
    "software desarrollado con este lenguaje. Hasta su intérprete se distribuye de\n",
    "forma gratuita para diferentes plataformas"
   ]
  },
  {
   "cell_type": "markdown",
   "metadata": {},
   "source": [
    "### Un poco de Historia!!\n",
    "\n",
    "El origen del lenguaje Python se remonta a principios de los noventa. Por\n",
    "este tiempo, un investigador holandés llamado **Guido van Rossum**, que trabajaba\n",
    "en el centro de investigación CWI (Centrum Wiskunde & Informática) de\n",
    "Ámsterdam, es asignado a un proyecto que consistía en el desarrollo de un\n",
    "sistema operativo distribuido llamado Amoeba. Por aquel tiempo, el CWI\n",
    "utilizaba un lenguaje de programación llamado ABC. En lugar de emplear este\n",
    "lenguaje para el proyecto Amoeba, Guido decide crear uno nuevo que pueda\n",
    "superar las limitaciones y problemas con los que se había encontrado al trabajar\n",
    "en otros proyectos con ABC. Así pues, es esta la principal motivación que dio\n",
    "lugar al nacimiento de Python.\n",
    "\n",
    "\n",
    "\n",
    "La primera versión del lenguaje ve la luz en **1991**, pero no es hasta tres años\n",
    "después cuando decide publicarse la versión 1.0. Inicialmente el CWI decidió\n",
    "liberar el intérprete del lenguaje bajo una **licencia open source propia**, pero en\n",
    "septiembre de 2000 y coincidiendo con la publicación de la versión 1.6, se toma\n",
    "la decisión de cambiar la licencia por una que sea compatible con la licencia\n",
    "**GPL (GNU General Public License)**. Esta nueva licencia se denominará **Python\n",
    "Software Foundation License** y se diferencia de la GPL al ser una licencia no\n",
    "copyleft. Este hecho implica que es posible modificar el código fuente y\n",
    "desarrollar código derivado sin la necesidad de hacerlo open source.\n",
    "\n",
    "Hasta el momento solo se ha liberado tres versiones principales, teniendo\n",
    "cada una de ellas diversas actualizaciones\n",
    "\n",
    "Entre las características de las primeras versiones de Python cabe destacar el\n",
    "**soporte de la orientación a objetos, el manejo de excepciones y el soporte de\n",
    "estructuras de datos de alto nivel**, como, por ejemplo, las listas y los\n",
    "diccionarios. Además, desde su desarrollo inicial, se tuvo en cuenta que el\n",
    "código escrito en este lenguaje fuera fácil de leer y de aprender, sin que esto\n",
    "suponga renunciar a características y funcionalidades avanzadas.\n",
    "\n",
    "Muchos se preguntan el origen del nombre de este lenguaje de programación.\n",
    "Guido van Rossum decidió darle este nombre en honor a la serie de televisión\n",
    "**Monty Python's Flying Circus**, de la cual era fan. Esta es una serie cómica\n",
    "protagonizada por el grupo de humoristas **Monty Python**, famoso por películas\n",
    "como La vida de Brian o El sentido de la vida. Desde el principio de su diseño,\n",
    "se pretendía que Python fuera un lenguaje que resultara divertido de utilizar, de\n",
    "ahí que en el nombre influyera la mencionada serie cómica"
   ]
  },
  {
   "cell_type": "markdown",
   "metadata": {},
   "source": [
    "### Lenguaje informático:\n",
    "es un idioma artificial, utilizado por ordenadores, cuyo fin es\n",
    "transmitir información de algo a alguien. Los lenguajes informáticos, pueden\n",
    "clasificarse en: a) lenguajes de programación (Python, PHP, Pearl, C, etc.); b)\n",
    "lenguajes de especificación (UML); c) lenguajes de consulta (SQL); d) lenguajes de\n",
    "marcas (HTML, XML); e) lenguajes de transformación (XSLT); f) protocolos de\n",
    "comunicaciones (HTTP, FTP); entre otros.\n",
    "ático."
   ]
  },
  {
   "cell_type": "markdown",
   "metadata": {},
   "source": [
    "### Lenguaje de programación:\n",
    "es un lenguaje informático, diseñado para expresar\n",
    "órdenes e instrucciones precisas, que deben ser llevadas a cabo por una\n",
    "computadora. El mismo puede utilizarse para crear programas que controlen el\n",
    "comportamiento físico o lógico de un ordenador. Está compuesto por una serie de\n",
    "símbolos, reglas sintácticas y semánticas que definen la estructura del lenguaje."
   ]
  },
  {
   "cell_type": "markdown",
   "metadata": {},
   "source": [
    "### Lenguajes de alto nivel:\n",
    "son aquellos cuya característica principal, consiste en una\n",
    "estructura sintáctica y semántica legible, acorde a las capacidades cognitivas\n",
    "humanas. A diferencia de los lenguajes de bajo nivel, son independientes de la\n",
    "arquitectura del hardware, motivo por el cual, asumen mayor portabilidad."
   ]
  },
  {
   "cell_type": "markdown",
   "metadata": {},
   "source": [
    "### Lenguajes interpretados:\n",
    "a diferencia de los compilados, no requieren de un\n",
    "compilador para ser ejecutados sino de un intérprete. Un intérprete, actúa de manera\n",
    "casi idéntica a un compilador, con la salvedad de que ejecuta el programa\n",
    "directamente, sin necesidad de generar previamente un ejecutable. Ejemplo de\n",
    "lenguajes de programación interpretado son Python, PHP, Ruby, Lisp, entre otros."
   ]
  },
  {
   "cell_type": "markdown",
   "metadata": {},
   "source": [
    "### Tipado dinámico:\n",
    "un lenguaje de tipado dinámico es aquel cuyas variables, no\n",
    "requieren ser definidas asignando su tipo de datos, sino que éste, se auto-asigna en\n",
    "tiempo de ejecución, según el valor declarado."
   ]
  },
  {
   "cell_type": "markdown",
   "metadata": {},
   "source": [
    "### Multiplataforma:\n",
    "significa que puede ser interpretado en diversos Sistemas\n",
    "Operativos como GNU/Linux, Windows, Mac OS, Solaris, entre otros."
   ]
  },
  {
   "cell_type": "markdown",
   "metadata": {},
   "source": [
    "### Código fuente: \n",
    "es un conjunto de instrucciones y órdenes lógicas, compuestos de\n",
    "algoritmos que se encuentran escritos en un determinado lenguaje de programación,\n",
    "las cuales deben ser interpretadas o compiladas, para permitir la ejecución del\n",
    "programa informático."
   ]
  },
  {
   "cell_type": "markdown",
   "metadata": {},
   "source": [
    "### Modo interactivo\n",
    "Se dice que estamos usando el intérprete en modo interactivo, cuando los comandos son leídos desde una terminal. En este modo espera el siguiente comando con el prompt primario, usualmente tres signos mayor-que (>>>); para las líneas de continuación espera con el prompt secundario, por defecto tres puntos (...). Antes de mostrar el prompt primario, el intérprete muestra un mensaje de bienvenida reportando su número de versión y una nota de copyright:\n",
    "\n",
    "<img src = 'img/prompt.png'>\n"
   ]
  },
  {
   "cell_type": "markdown",
   "metadata": {},
   "source": [
    "### Herramientas de Desarrollo\n",
    "\n",
    "Para programar no basta con conocer un lenguaje. Necesitas un espacio donde escribir tu código. En este sentido, puedes emplear un editor de texto como el que ofrece tu sistema operativo por defecto o puedes decidirte por un editor de texto especializado, ya que entre otras cosas resaltará con colores tu código, numerará las líneas y, en definitiva, te ayudará a organizar mejor tu trabajo.\n",
    "Existen muchas opciones:\n",
    "\n",
    "    PyCharm\n",
    "    DEvcode\n",
    "    Eclipse\n",
    "    Thonny\n",
    "    Atom\n",
    "    SublimeText\n",
    "    \n",
    "<img src=\"img/Anaconda.jpg\">   \n",
    "    "
   ]
  },
  {
   "cell_type": "markdown",
   "metadata": {},
   "source": [
    "#  Estructuras y tipos de Datos  Basicos "
   ]
  },
  {
   "cell_type": "markdown",
   "metadata": {},
   "source": [
    "### Tipado Dinamico\n",
    "\n",
    "Un lenguaje de programación es dinámicamente tipado si una variable puede tomar valores de distinto tipo. La mayoría de lenguajes de tipado dinámico son lenguajes interpretados, como Python o Ruby. Un lenguaje que no es dinámicamente tipado se dice que es de tipado estático, o estáticamente tipado.\n",
    "Wikipedia"
   ]
  },
  {
   "cell_type": "markdown",
   "metadata": {},
   "source": [
    "### VARIABLES\n",
    "\n",
    "Una variable es un espacio para almacenar datos modificables, en la memoria de un ordenador. En Python una variable se define con la sintaxis:\n",
    "\n",
    "mombre_de_la_variable = valor_de_la_variable\n",
    "\n",
    "Las variables empiezan con una letra y pueden ser cualquier palabra, excepto una de las\n",
    "palabras reservadas, las cuales son: and , assert , break , class , continué , def ,\n",
    "del , elif , else , except , exec , finally , for , from , global, if , import ,\n",
    "in , is , lambda , not , or , pass , print , raise , return , try , while , yield .\n",
    "Podemos usar print para mostrar el valor de una expresión (por ejemplo, una variable).\n",
    "Si sólo escribimos la variable sin print , obtendremos la representación interna: las funciones y objetos nos dicen en qué parte de la memoria se encuentran y las cadenas aparecen con\n",
    "sus comillas."
   ]
  },
  {
   "cell_type": "code",
   "execution_count": 27,
   "metadata": {},
   "outputs": [
    {
     "data": {
      "text/plain": [
       "'Hola Mundo'"
      ]
     },
     "execution_count": 27,
     "metadata": {},
     "output_type": "execute_result"
    }
   ],
   "source": [
    "a='Hola Mundo'\n",
    "a\n"
   ]
  },
  {
   "cell_type": "code",
   "execution_count": 5,
   "metadata": {},
   "outputs": [
    {
     "name": "stdout",
     "output_type": "stream",
     "text": [
      "Hola Mundo\n"
     ]
    }
   ],
   "source": [
    "print('Hola Mundo')"
   ]
  },
  {
   "cell_type": "markdown",
   "metadata": {},
   "source": [
    "### Sintaxis correcta declaracion de variables y constantes"
   ]
  },
  {
   "cell_type": "markdown",
   "metadata": {},
   "source": [
    "#### Variables\n",
    "\n",
    "Utilizar nombres descriptivos y en minusculas. Para nombres compuestos separar las palabras por guiones bajos.\n",
    "Antes y despues del signo igual = debe haber uno y solo uno espacio en blanco"
   ]
  },
  {
   "cell_type": "code",
   "execution_count": 28,
   "metadata": {},
   "outputs": [],
   "source": [
    "mi_variable = 12"
   ]
  },
  {
   "cell_type": "markdown",
   "metadata": {},
   "source": [
    "#### Constante"
   ]
  },
  {
   "cell_type": "markdown",
   "metadata": {},
   "source": [
    "Utilizar nombres descriptivos y en mayusculas separando palabras por guiones bajos"
   ]
  },
  {
   "cell_type": "code",
   "execution_count": 29,
   "metadata": {},
   "outputs": [],
   "source": [
    "MI_CONSTANTE = 12"
   ]
  },
  {
   "cell_type": "markdown",
   "metadata": {},
   "source": [
    "### Comentarios\n",
    "\n",
    "Un archivo, no solo puede contener codigo fuente. Tambien puede incluir comentarios(notas que como programadores, indicamos en el codigo para poder comprender mejor)\n",
    "\n",
    "Los comentarios pueden ser de dos tios: de una sola linea o multilineas y se expresan de la siguiente manera\n"
   ]
  },
  {
   "cell_type": "code",
   "execution_count": 32,
   "metadata": {},
   "outputs": [],
   "source": [
    "# este es un comentario de una sola linea\n",
    "mi_variable = 4\n",
    "\n",
    "\"\"\" y este es un comentario\n",
    "de varias lineas\"\"\"\n",
    "mi_variable = 8\n",
    "\n",
    "mi_variable = 5  # Este comentaio tambien es de una sola linea "
   ]
  },
  {
   "cell_type": "markdown",
   "metadata": {},
   "source": [
    "### Numeros\n",
    "Respecto a los tipos de números soportados por Python, contamos con que es\n",
    "posible trabajar con números enteros, reales y complejos. Además, estos pueden\n",
    "ser representados en decimal, binario, octal y hexadecimal, tal y como veremos"
   ]
  },
  {
   "cell_type": "code",
   "execution_count": 10,
   "metadata": {},
   "outputs": [
    {
     "data": {
      "text/plain": [
       "int"
      ]
     },
     "execution_count": 10,
     "metadata": {},
     "output_type": "execute_result"
    }
   ],
   "source": [
    "# De forma práctica, la asignación de un número entero a una variable se puede\n",
    "# hacer a través de una sentencia como esta:\n",
    "\n",
    "num_entero = 8\n",
    "\n",
    "# Una función que nos puede resultar muy útil para ver de qué tipo es una\n",
    "#variable es type(). Como argumento recibe el nombre de la variable en cuestión y\n",
    "#devuelve el tipo precedido de la palabra clave class.\n",
    "\n",
    "type(num_entero)"
   ]
  },
  {
   "cell_type": "code",
   "execution_count": 11,
   "metadata": {},
   "outputs": [
    {
     "data": {
      "text/plain": [
       "int"
      ]
     },
     "execution_count": 11,
     "metadata": {},
     "output_type": "execute_result"
    }
   ],
   "source": [
    "# Numero entero Negativo\n",
    "num_negativo = -75\n",
    "type(num_negativo)"
   ]
  },
  {
   "cell_type": "code",
   "execution_count": 12,
   "metadata": {},
   "outputs": [
    {
     "data": {
      "text/plain": [
       "float"
      ]
     },
     "execution_count": 12,
     "metadata": {},
     "output_type": "execute_result"
    }
   ],
   "source": [
    "# Numero Real\n",
    "num_real = 18.5\n",
    "type(num_real)"
   ]
  },
  {
   "cell_type": "code",
   "execution_count": 13,
   "metadata": {},
   "outputs": [
    {
     "data": {
      "text/plain": [
       "complex"
      ]
     },
     "execution_count": 13,
     "metadata": {},
     "output_type": "execute_result"
    }
   ],
   "source": [
    "#Numero Complejo formado por una parte real y una imaginaria\n",
    "num_complex = 3.2 + 7j\n",
    "# Tambien es Valido\n",
    "num_complex2 = 4.5j + 3\n",
    "\n",
    "type(num_complex)"
   ]
  },
  {
   "cell_type": "code",
   "execution_count": 17,
   "metadata": {},
   "outputs": [
    {
     "data": {
      "text/plain": [
       "float"
      ]
     },
     "execution_count": 17,
     "metadata": {},
     "output_type": "execute_result"
    }
   ],
   "source": [
    "# Numero Real Notacion Cientifica\n",
    "num_Real = 0.5e-3\n",
    "\n",
    "type(num_Real)"
   ]
  },
  {
   "cell_type": "markdown",
   "metadata": {},
   "source": [
    "### Sistemas de Representacion\n",
    "\n",
    "Python puede representar los\n",
    "números enteros en los **sistemas decimal, octal, binario y hexadecimal**. La\n",
    "representación decimal es la empleada comúnmente y no es necesario indicar\n",
    "nada más que el número en cuestión. Sin embargo, para el resto de sistemas es\n",
    "necesario que el número sea precedido de **uno o dos caracteres concretos.**"
   ]
  },
  {
   "cell_type": "code",
   "execution_count": 4,
   "metadata": {},
   "outputs": [],
   "source": [
    "#Numero Binario precedido de 0b\n",
    "num_bin = 0b1111"
   ]
  },
  {
   "cell_type": "code",
   "execution_count": 22,
   "metadata": {},
   "outputs": [],
   "source": [
    "#Numero Octal precedido de 0o\n",
    "num_octal = 0o77"
   ]
  },
  {
   "cell_type": "code",
   "execution_count": 23,
   "metadata": {},
   "outputs": [],
   "source": [
    "# NUmero Hexadecimal precedido de 0x\n",
    "num_hex = 0xff"
   ]
  },
  {
   "cell_type": "markdown",
   "metadata": {},
   "source": [
    "### Operadores\n",
    "\n",
    "Obviamente, para trabajar con números, no solo necesitamos representarlos a\n",
    "través de diferentes tipos, sino también es importante realizar operaciones con\n",
    "ellos. Python cuenta con diversos operadores para aplicar diferentes operaciones\n",
    "numéricas. \n",
    "\n",
    "Dentro del grupo de las aritméticas, contamos con las básicas **suma,\n",
    "división entera y real, multiplicación y resta**. En cuanto a las operaciones de bajo\n",
    "nivel y entre bits, existen tanto las operaciones **NOT y NOR, como XOR y\n",
    "AND.** También contamos con operadores para comprobar la **igualdad y\n",
    "desigualdad** y para realizar operaciones lógicas como **AND y OR.**\n",
    "\n",
    "\n",
    "Como en otros lenguajes de programación, en Python también existe la\n",
    "**precedencia de operadores,** lo que deberemos tener en cuenta a la hora de\n",
    "escribir expresiones que utilicen varios de ellos. Sin olvidar que los **paréntesis**\n",
    "pueden ser usados para marcar la preferencia entre unas operaciones y otras\n",
    "de la misma expresión.\n",
    "<img  src =\"img/operadores.png\" >\n"
   ]
  },
  {
   "cell_type": "code",
   "execution_count": 8,
   "metadata": {},
   "outputs": [],
   "source": [
    "# variables para mostrar operadores matematicos\n",
    "a = 20\n",
    "b = 15"
   ]
  },
  {
   "cell_type": "code",
   "execution_count": 26,
   "metadata": {},
   "outputs": [
    {
     "data": {
      "text/plain": [
       "35"
      ]
     },
     "execution_count": 26,
     "metadata": {},
     "output_type": "execute_result"
    }
   ],
   "source": [
    "# Suma\n",
    "a+b"
   ]
  },
  {
   "cell_type": "code",
   "execution_count": 27,
   "metadata": {},
   "outputs": [
    {
     "data": {
      "text/plain": [
       "5"
      ]
     },
     "execution_count": 27,
     "metadata": {},
     "output_type": "execute_result"
    }
   ],
   "source": [
    "# Resta\n",
    "a-b"
   ]
  },
  {
   "cell_type": "code",
   "execution_count": 28,
   "metadata": {},
   "outputs": [
    {
     "data": {
      "text/plain": [
       "300"
      ]
     },
     "execution_count": 28,
     "metadata": {},
     "output_type": "execute_result"
    }
   ],
   "source": [
    "# Multiplicacion\n",
    "a*b"
   ]
  },
  {
   "cell_type": "code",
   "execution_count": 29,
   "metadata": {},
   "outputs": [
    {
     "data": {
      "text/plain": [
       "1.3333333333333333"
      ]
     },
     "execution_count": 29,
     "metadata": {},
     "output_type": "execute_result"
    }
   ],
   "source": [
    "# Division \n",
    "a/b"
   ]
  },
  {
   "cell_type": "code",
   "execution_count": 30,
   "metadata": {},
   "outputs": [
    {
     "data": {
      "text/plain": [
       "1"
      ]
     },
     "execution_count": 30,
     "metadata": {},
     "output_type": "execute_result"
    }
   ],
   "source": [
    "# Division Entera\n",
    "a//b"
   ]
  },
  {
   "cell_type": "code",
   "execution_count": 31,
   "metadata": {},
   "outputs": [
    {
     "data": {
      "text/plain": [
       "5"
      ]
     },
     "execution_count": 31,
     "metadata": {},
     "output_type": "execute_result"
    }
   ],
   "source": [
    "# Resto\n",
    "a%b"
   ]
  },
  {
   "cell_type": "code",
   "execution_count": 32,
   "metadata": {},
   "outputs": [
    {
     "data": {
      "text/plain": [
       "32768000000000000000"
      ]
     },
     "execution_count": 32,
     "metadata": {},
     "output_type": "execute_result"
    }
   ],
   "source": [
    "# Potencia\n",
    "a**b"
   ]
  },
  {
   "cell_type": "markdown",
   "metadata": {},
   "source": [
    "### Operadores a nivel de bit"
   ]
  },
  {
   "cell_type": "code",
   "execution_count": 33,
   "metadata": {},
   "outputs": [
    {
     "data": {
      "text/plain": [
       "31"
      ]
     },
     "execution_count": 33,
     "metadata": {},
     "output_type": "execute_result"
    }
   ],
   "source": [
    "# OR nivel de bit\n",
    "a|b"
   ]
  },
  {
   "cell_type": "code",
   "execution_count": 38,
   "metadata": {},
   "outputs": [
    {
     "data": {
      "text/plain": [
       "27"
      ]
     },
     "execution_count": 38,
     "metadata": {},
     "output_type": "execute_result"
    }
   ],
   "source": [
    "#XOR nivel de bit\n",
    "a^b"
   ]
  },
  {
   "cell_type": "code",
   "execution_count": 39,
   "metadata": {},
   "outputs": [
    {
     "data": {
      "text/plain": [
       "4"
      ]
     },
     "execution_count": 39,
     "metadata": {},
     "output_type": "execute_result"
    }
   ],
   "source": [
    "# AND nivel de bit\n",
    "a&b"
   ]
  },
  {
   "cell_type": "markdown",
   "metadata": {},
   "source": [
    "### Operadores de Comparacion"
   ]
  },
  {
   "cell_type": "code",
   "execution_count": 10,
   "metadata": {},
   "outputs": [
    {
     "data": {
      "text/plain": [
       "True"
      ]
     },
     "execution_count": 10,
     "metadata": {},
     "output_type": "execute_result"
    }
   ],
   "source": [
    "# mayor que\n",
    "a > b"
   ]
  },
  {
   "cell_type": "code",
   "execution_count": 11,
   "metadata": {},
   "outputs": [
    {
     "data": {
      "text/plain": [
       "False"
      ]
     },
     "execution_count": 11,
     "metadata": {},
     "output_type": "execute_result"
    }
   ],
   "source": [
    "# menor que \n",
    "a<b"
   ]
  },
  {
   "cell_type": "code",
   "execution_count": 12,
   "metadata": {},
   "outputs": [
    {
     "data": {
      "text/plain": [
       "True"
      ]
     },
     "execution_count": 12,
     "metadata": {},
     "output_type": "execute_result"
    }
   ],
   "source": [
    "# mayor o igual\n",
    "a>=b"
   ]
  },
  {
   "cell_type": "code",
   "execution_count": 13,
   "metadata": {},
   "outputs": [
    {
     "data": {
      "text/plain": [
       "False"
      ]
     },
     "execution_count": 13,
     "metadata": {},
     "output_type": "execute_result"
    }
   ],
   "source": [
    "# menor o igual\n",
    "a<=b"
   ]
  },
  {
   "cell_type": "code",
   "execution_count": 40,
   "metadata": {},
   "outputs": [
    {
     "data": {
      "text/plain": [
       "False"
      ]
     },
     "execution_count": 40,
     "metadata": {},
     "output_type": "execute_result"
    }
   ],
   "source": [
    "# Igualdad\n",
    "a==b"
   ]
  },
  {
   "cell_type": "code",
   "execution_count": 41,
   "metadata": {},
   "outputs": [
    {
     "data": {
      "text/plain": [
       "True"
      ]
     },
     "execution_count": 41,
     "metadata": {},
     "output_type": "execute_result"
    }
   ],
   "source": [
    "# Desigualdad\n",
    "a!=b"
   ]
  },
  {
   "cell_type": "markdown",
   "metadata": {},
   "source": [
    "### Operadores logicos "
   ]
  },
  {
   "cell_type": "code",
   "execution_count": 44,
   "metadata": {},
   "outputs": [],
   "source": [
    "# Variables Booleanas para operaciones logicas\n",
    "x = True\n",
    "y = False"
   ]
  },
  {
   "cell_type": "code",
   "execution_count": 45,
   "metadata": {},
   "outputs": [
    {
     "data": {
      "text/plain": [
       "True"
      ]
     },
     "execution_count": 45,
     "metadata": {},
     "output_type": "execute_result"
    }
   ],
   "source": [
    "# OR logica\n",
    "x or y"
   ]
  },
  {
   "cell_type": "code",
   "execution_count": 46,
   "metadata": {},
   "outputs": [
    {
     "data": {
      "text/plain": [
       "False"
      ]
     },
     "execution_count": 46,
     "metadata": {},
     "output_type": "execute_result"
    }
   ],
   "source": [
    "# AND logica\n",
    "x and y"
   ]
  },
  {
   "cell_type": "code",
   "execution_count": 47,
   "metadata": {},
   "outputs": [
    {
     "data": {
      "text/plain": [
       "False"
      ]
     },
     "execution_count": 47,
     "metadata": {},
     "output_type": "execute_result"
    }
   ],
   "source": [
    "# Negacion\n",
    "not x"
   ]
  },
  {
   "cell_type": "code",
   "execution_count": 48,
   "metadata": {},
   "outputs": [
    {
     "data": {
      "text/plain": [
       "15"
      ]
     },
     "execution_count": 48,
     "metadata": {},
     "output_type": "execute_result"
    }
   ],
   "source": [
    "a and b\n"
   ]
  },
  {
   "cell_type": "markdown",
   "metadata": {},
   "source": [
    "### Funciones Matematicas"
   ]
  },
  {
   "cell_type": "markdown",
   "metadata": {},
   "source": [
    "Python nos permite aplicar otras muchas funciones matemáticas. Entre ellas, tenemos algunas como el valor absoluto, la raíz cuadrada, el cálculo del valor máximo y mínimo de una lista o el redondo para números reales. Incluso es posible trabajar con operaciones trigonométricas como el seno, coseno y tangente. La mayoría de estas operaciones se encuentran disponibles a través de un módulo llamado math.\n"
   ]
  },
  {
   "cell_type": "markdown",
   "metadata": {},
   "source": [
    "<img src=\"img/math.jpg\">"
   ]
  },
  {
   "cell_type": "code",
   "execution_count": 6,
   "metadata": {},
   "outputs": [
    {
     "name": "stdout",
     "output_type": "stream",
     "text": [
      "['__doc__', '__file__', '__loader__', '__name__', '__package__', '__spec__', 'acos', 'acosh', 'asin', 'asinh', 'atan', 'atan2', 'atanh', 'ceil', 'copysign', 'cos', 'cosh', 'degrees', 'e', 'erf', 'erfc', 'exp', 'expm1', 'fabs', 'factorial', 'floor', 'fmod', 'frexp', 'fsum', 'gamma', 'gcd', 'hypot', 'inf', 'isclose', 'isfinite', 'isinf', 'isnan', 'ldexp', 'lgamma', 'log', 'log10', 'log1p', 'log2', 'modf', 'nan', 'pi', 'pow', 'radians', 'sin', 'sinh', 'sqrt', 'tan', 'tanh', 'tau', 'trunc']\n"
     ]
    }
   ],
   "source": [
    "import math\n",
    "print (dir(math))"
   ]
  },
  {
   "cell_type": "code",
   "execution_count": 7,
   "metadata": {},
   "outputs": [
    {
     "data": {
      "text/plain": [
       "6.0"
      ]
     },
     "execution_count": 7,
     "metadata": {},
     "output_type": "execute_result"
    }
   ],
   "source": [
    "#Raiz Cuadrada\n",
    "math.sqrt(36)"
   ]
  },
  {
   "cell_type": "code",
   "execution_count": 8,
   "metadata": {},
   "outputs": [
    {
     "data": {
      "text/plain": [
       "148.4131591025766"
      ]
     },
     "execution_count": 8,
     "metadata": {},
     "output_type": "execute_result"
    }
   ],
   "source": [
    "# Exponencial\n",
    "math.exp(5)"
   ]
  },
  {
   "cell_type": "code",
   "execution_count": 9,
   "metadata": {},
   "outputs": [
    {
     "data": {
      "text/plain": [
       "3.141592653589793"
      ]
     },
     "execution_count": 9,
     "metadata": {},
     "output_type": "execute_result"
    }
   ],
   "source": [
    "# Pi\n",
    "math.pi"
   ]
  },
  {
   "cell_type": "code",
   "execution_count": 10,
   "metadata": {},
   "outputs": [
    {
     "data": {
      "text/plain": [
       "125.0"
      ]
     },
     "execution_count": 10,
     "metadata": {},
     "output_type": "execute_result"
    }
   ],
   "source": [
    "#Potencia \n",
    "math.pow(5,3)"
   ]
  },
  {
   "cell_type": "code",
   "execution_count": 11,
   "metadata": {},
   "outputs": [
    {
     "data": {
      "text/plain": [
       "2.302585092994046"
      ]
     },
     "execution_count": 11,
     "metadata": {},
     "output_type": "execute_result"
    }
   ],
   "source": [
    "# logaritmo base 2\n",
    "math.log(10)"
   ]
  },
  {
   "cell_type": "code",
   "execution_count": 12,
   "metadata": {},
   "outputs": [
    {
     "data": {
      "text/plain": [
       "1.0"
      ]
     },
     "execution_count": 12,
     "metadata": {},
     "output_type": "execute_result"
    }
   ],
   "source": [
    "# logaritmo base 10\n",
    "math.log10(10)"
   ]
  },
  {
   "cell_type": "code",
   "execution_count": 18,
   "metadata": {},
   "outputs": [
    {
     "data": {
      "text/plain": [
       "1.0"
      ]
     },
     "execution_count": 18,
     "metadata": {},
     "output_type": "execute_result"
    }
   ],
   "source": [
    "# seno\n",
    "math.sin(math.pi/2)"
   ]
  },
  {
   "cell_type": "code",
   "execution_count": 20,
   "metadata": {},
   "outputs": [
    {
     "data": {
      "text/plain": [
       "0"
      ]
     },
     "execution_count": 20,
     "metadata": {},
     "output_type": "execute_result"
    }
   ],
   "source": [
    "# coseno\n",
    "int(math.cos(math.pi/2))"
   ]
  },
  {
   "cell_type": "markdown",
   "metadata": {},
   "source": [
    "### Conversion de Base\n",
    "\n",
    "Otras interesantes operaciones que podemos hacer con números es el cambio\n",
    "de base. Por ejemplo, para pasar de decimal a binario o de octal a hexadecimal.\n",
    "Para ello, Python cuenta con las funciones **int(), hex(), oct() y bin()**"
   ]
  },
  {
   "cell_type": "code",
   "execution_count": 21,
   "metadata": {},
   "outputs": [
    {
     "data": {
      "text/plain": [
       "'0b11001'"
      ]
     },
     "execution_count": 21,
     "metadata": {},
     "output_type": "execute_result"
    }
   ],
   "source": [
    "# Conversion de entero  a Binario\n",
    "bin(25)"
   ]
  },
  {
   "cell_type": "code",
   "execution_count": 22,
   "metadata": {},
   "outputs": [
    {
     "data": {
      "text/plain": [
       "'0x19'"
      ]
     },
     "execution_count": 22,
     "metadata": {},
     "output_type": "execute_result"
    }
   ],
   "source": [
    "# Conversion de entero a Hexadecimal\n",
    "hex(25)"
   ]
  },
  {
   "cell_type": "code",
   "execution_count": 23,
   "metadata": {},
   "outputs": [
    {
     "data": {
      "text/plain": [
       "'0o31'"
      ]
     },
     "execution_count": 23,
     "metadata": {},
     "output_type": "execute_result"
    }
   ],
   "source": [
    "#Conversion de entero a Octal\n",
    "oct(25)"
   ]
  },
  {
   "cell_type": "code",
   "execution_count": 24,
   "metadata": {},
   "outputs": [
    {
     "data": {
      "text/plain": [
       "25"
      ]
     },
     "execution_count": 24,
     "metadata": {},
     "output_type": "execute_result"
    }
   ],
   "source": [
    "#Octal a entero\n",
    "int(0o31)"
   ]
  },
  {
   "cell_type": "code",
   "execution_count": 25,
   "metadata": {},
   "outputs": [
    {
     "data": {
      "text/plain": [
       "25"
      ]
     },
     "execution_count": 25,
     "metadata": {},
     "output_type": "execute_result"
    }
   ],
   "source": [
    "# Hexadecimal a entero\n",
    "int(0x19)"
   ]
  },
  {
   "cell_type": "code",
   "execution_count": 26,
   "metadata": {},
   "outputs": [
    {
     "data": {
      "text/plain": [
       "25"
      ]
     },
     "execution_count": 26,
     "metadata": {},
     "output_type": "execute_result"
    }
   ],
   "source": [
    "# Binario a Entero\n",
    "int(0b11001)"
   ]
  },
  {
   "cell_type": "markdown",
   "metadata": {},
   "source": [
    "### Conversion de Tipo"
   ]
  },
  {
   "cell_type": "code",
   "execution_count": 29,
   "metadata": {},
   "outputs": [
    {
     "data": {
      "text/plain": [
       "18"
      ]
     },
     "execution_count": 29,
     "metadata": {},
     "output_type": "execute_result"
    }
   ],
   "source": [
    "# flotante a Entero\n",
    "int(18.23)"
   ]
  },
  {
   "cell_type": "code",
   "execution_count": 30,
   "metadata": {},
   "outputs": [
    {
     "data": {
      "text/plain": [
       "18.0"
      ]
     },
     "execution_count": 30,
     "metadata": {},
     "output_type": "execute_result"
    }
   ],
   "source": [
    "# Entero a Flotante\n",
    "float(18)"
   ]
  },
  {
   "cell_type": "code",
   "execution_count": 31,
   "metadata": {},
   "outputs": [
    {
     "data": {
      "text/plain": [
       "18"
      ]
     },
     "execution_count": 31,
     "metadata": {},
     "output_type": "execute_result"
    }
   ],
   "source": [
    "#String a Entero\n",
    "int('18')"
   ]
  },
  {
   "cell_type": "code",
   "execution_count": 14,
   "metadata": {},
   "outputs": [
    {
     "data": {
      "text/plain": [
       "119"
      ]
     },
     "execution_count": 14,
     "metadata": {},
     "output_type": "execute_result"
    }
   ],
   "source": [
    "# ord => de caracter a reprecentacion ascii\n",
    "# dado un caracter de entrada devuelve su repreentacion en formato ascii\n",
    "ord('w')"
   ]
  },
  {
   "cell_type": "code",
   "execution_count": 22,
   "metadata": {},
   "outputs": [
    {
     "data": {
      "text/plain": [
       "10.0"
      ]
     },
     "execution_count": 22,
     "metadata": {},
     "output_type": "execute_result"
    }
   ],
   "source": [
    "float('10')"
   ]
  },
  {
   "cell_type": "markdown",
   "metadata": {},
   "source": [
    "## Conjuntos\n",
    "\n",
    "Definir y operar con conjuntos matemáticos también es posible en Python. La\n",
    "función para crear un conjunto se llama **set()** y acepta como argumentos una\n",
    "serie de valores pasados entre comas, como si se tratara de una cadena de texto"
   ]
  },
  {
   "cell_type": "code",
   "execution_count": 3,
   "metadata": {},
   "outputs": [
    {
     "data": {
      "text/plain": [
       "{'5', '7', '9'}"
      ]
     },
     "execution_count": 3,
     "metadata": {},
     "output_type": "execute_result"
    }
   ],
   "source": [
    "# La siguiente línea de código define un conjunto de tres números diferentes, de tipo string\n",
    "conj = set('759')\n",
    "conj"
   ]
  },
  {
   "cell_type": "code",
   "execution_count": 37,
   "metadata": {},
   "outputs": [
    {
     "data": {
      "text/plain": [
       "{3, 4, 8}"
      ]
     },
     "execution_count": 37,
     "metadata": {},
     "output_type": "execute_result"
    }
   ],
   "source": [
    "# Un conjunto también puede ser definido empleando llaves ({}) y separando por comas \n",
    "# y define un conjunnto de enteros los elementos por comas\n",
    "conj2 = {3,8,4}\n",
    "conj2"
   ]
  },
  {
   "cell_type": "markdown",
   "metadata": {},
   "source": [
    "Operaciones como unión, intersección, creación de subconjuntos y diferencia\n",
    "están disponibles para conjuntos en Python. Algunas operaciones se pueden\n",
    "hacer directamente a través de operadores o bien, llamando al método en\n",
    "cuestión de cada instancia creada."
   ]
  },
  {
   "cell_type": "code",
   "execution_count": 47,
   "metadata": {},
   "outputs": [
    {
     "data": {
      "text/plain": [
       "{4, 8}"
      ]
     },
     "execution_count": 47,
     "metadata": {},
     "output_type": "execute_result"
    }
   ],
   "source": [
    "conj3 = {4, 7, 8}\n",
    "conj3&conj2"
   ]
  },
  {
   "cell_type": "code",
   "execution_count": 48,
   "metadata": {
    "scrolled": true
   },
   "outputs": [
    {
     "data": {
      "text/plain": [
       "{4, 8}"
      ]
     },
     "execution_count": 48,
     "metadata": {},
     "output_type": "execute_result"
    }
   ],
   "source": [
    "# Si en su lugar ejecutamos la siguiente sentencia, veremos que el resultado es el mismo\n",
    "conj3.intersection(conj2)"
   ]
  },
  {
   "cell_type": "code",
   "execution_count": 57,
   "metadata": {},
   "outputs": [
    {
     "data": {
      "text/plain": [
       "{1, 2, 3, 4, 5, 7, 8, 9, 'hello'}"
      ]
     },
     "execution_count": 57,
     "metadata": {},
     "output_type": "execute_result"
    }
   ],
   "source": [
    "# Si creamos un conjunto con valores repetidos, estos serán automáticamente\n",
    "# eliminados, es decir, no formarán parte del conjunto:\n",
    "\n",
    "rep = {1,1,2,2,3,3,5,7,8,8,9,5,4,7,'hello','hello'}\n",
    "rep"
   ]
  },
  {
   "cell_type": "code",
   "execution_count": 51,
   "metadata": {},
   "outputs": [
    {
     "data": {
      "text/plain": [
       "{'5', 5, '7', '9'}"
      ]
     },
     "execution_count": 51,
     "metadata": {},
     "output_type": "execute_result"
    }
   ],
   "source": [
    "# A través de los métodos add() y remove() podemos añadir y borrar elementos\n",
    "# de un conjunto.\n",
    "# Metodo Add\n",
    "conj.add(5)\n",
    "conj"
   ]
  },
  {
   "cell_type": "code",
   "execution_count": 54,
   "metadata": {},
   "outputs": [
    {
     "data": {
      "text/plain": [
       "{'7', '9'}"
      ]
     },
     "execution_count": 54,
     "metadata": {},
     "output_type": "execute_result"
    }
   ],
   "source": [
    "#Metodo remove\n",
    "conj.remove('5')\n",
    "conj"
   ]
  },
  {
   "cell_type": "markdown",
   "metadata": {},
   "source": [
    "\n",
    "## Cadenas de Texto\n",
    "\n",
    "No cabe duda de que, a parte de los números, las cadenas de texto (strings)\n",
    "son otro de los tipos de datos más utilizados en programación. El intérprete de\n",
    "Python integra este tipo de datos, además de una extensa serie de funciones para\n",
    "interactuar con diferentes cadenas de texto.\n",
    "\n",
    "Básicamente, una cadena de texto o string es un conjunto inmutable y\n",
    "ordenado de caracteres. Para su representación y definición se pueden utilizar\n",
    "tanto **comillas dobles (\"), como simples (')**."
   ]
  },
  {
   "cell_type": "code",
   "execution_count": 59,
   "metadata": {},
   "outputs": [
    {
     "data": {
      "text/plain": [
       "'Hola mundo Python'"
      ]
     },
     "execution_count": 59,
     "metadata": {},
     "output_type": "execute_result"
    }
   ],
   "source": [
    "# La siguiente linea define una variable de tipo string\n",
    "texto = 'Hola mundo Python'\n",
    "texto"
   ]
  },
  {
   "cell_type": "code",
   "execution_count": 62,
   "metadata": {},
   "outputs": [
    {
     "data": {
      "text/plain": [
       "'Passion for Python'"
      ]
     },
     "execution_count": 62,
     "metadata": {},
     "output_type": "execute_result"
    }
   ],
   "source": [
    "# ocurre lo mismo con comilla doble\n",
    "texto_1 = \"Passion for Python\"\n",
    "texto_1"
   ]
  },
  {
   "cell_type": "code",
   "execution_count": 33,
   "metadata": {},
   "outputs": [
    {
     "name": "stdout",
     "output_type": "stream",
     "text": [
      " Hola nuevos programadores \n",
      " de este lenguaje maravilloso\n"
     ]
    }
   ],
   "source": [
    "# Si necesitamos declarar un string que contenga más de una línea, podemos\n",
    "# hacerlo utilizando comillas triples en lugar de dobles o simples:\n",
    "\n",
    "texto_varias_lineas = \"\"\" Hola nuevos programadores \n",
    " de este lenguaje maravilloso\"\"\"\n",
    "\n",
    "print(texto_varias_lineas)"
   ]
  },
  {
   "cell_type": "markdown",
   "metadata": {},
   "source": [
    "#### Cadenas de Escape\n",
    "\n",
    "\\t cadena de tabulacion\n",
    "\n",
    "\\n cadena de salto de linea\n",
    "\n",
    "r  cadena cruda"
   ]
  },
  {
   "cell_type": "code",
   "execution_count": 36,
   "metadata": {},
   "outputs": [
    {
     "name": "stdout",
     "output_type": "stream",
     "text": [
      "C:\\algun\\nombre\n"
     ]
    }
   ],
   "source": [
    "texto = r\"C:\\algun\\nombre\"\n",
    "print(texto)"
   ]
  },
  {
   "cell_type": "markdown",
   "metadata": {},
   "source": [
    "### Principales funciones y Metodos para el tipo String\n",
    "\n",
    "Para trabajar con strings Python pone a nuestra disposición una serie de\n",
    "funciones y métodos. Las primeras pueden ser invocadas directamente y reciben\n",
    "como argumento una cadena. Por otro lado, una vez que tenemos declarado el\n",
    "string, podemos invocar a diferentes métodos con los que cuenta este tipo de\n",
    "dato."
   ]
  },
  {
   "cell_type": "markdown",
   "metadata": {},
   "source": [
    "#### **Metodo len()**"
   ]
  },
  {
   "cell_type": "code",
   "execution_count": 16,
   "metadata": {},
   "outputs": [
    {
     "data": {
      "text/plain": [
       "26"
      ]
     },
     "execution_count": 16,
     "metadata": {},
     "output_type": "execute_result"
    }
   ],
   "source": [
    "# el metodo len permite calcular el numero de caracteres\n",
    "\n",
    "cadena = 'Cadena de texto de ejemplo'\n",
    "len(cadena)"
   ]
  },
  {
   "cell_type": "markdown",
   "metadata": {},
   "source": [
    "#### Metodo count()"
   ]
  },
  {
   "cell_type": "code",
   "execution_count": 17,
   "metadata": {},
   "outputs": [
    {
     "data": {
      "text/plain": [
       "1"
      ]
     },
     "execution_count": 17,
     "metadata": {},
     "output_type": "execute_result"
    }
   ],
   "source": [
    "#devuelve el numero de veces que aparece la subcadena dentro de la cadena de caracteres\n",
    "cadena.count('Cadena')"
   ]
  },
  {
   "cell_type": "markdown",
   "metadata": {},
   "source": [
    "#### **Funcion find()**"
   ]
  },
  {
   "cell_type": "code",
   "execution_count": 72,
   "metadata": {},
   "outputs": [
    {
     "data": {
      "text/plain": [
       "10"
      ]
     },
     "execution_count": 72,
     "metadata": {},
     "output_type": "execute_result"
    }
   ],
   "source": [
    "# La función find() devuelve el índice correspondiente al primer carácter de la\n",
    "# cadena original que coincide con el buscado\n",
    "cadena.find('t')"
   ]
  },
  {
   "cell_type": "code",
   "execution_count": 73,
   "metadata": {},
   "outputs": [
    {
     "data": {
      "text/plain": [
       "10"
      ]
     },
     "execution_count": 73,
     "metadata": {},
     "output_type": "execute_result"
    }
   ],
   "source": [
    "cadena.find('texto')"
   ]
  },
  {
   "cell_type": "markdown",
   "metadata": {},
   "source": [
    "#### Metodo replace()"
   ]
  },
  {
   "cell_type": "code",
   "execution_count": 76,
   "metadata": {},
   "outputs": [
    {
     "data": {
      "text/plain": [
       "'Adios Mundo Python'"
      ]
     },
     "execution_count": 76,
     "metadata": {},
     "output_type": "execute_result"
    }
   ],
   "source": [
    "#Para reemplazar una serie de caracteres por otros, contamos con el método\n",
    "#`replace().\n",
    "text = 'Hola Mundo Python'\n",
    "text.replace('Hola','Adios')\n"
   ]
  },
  {
   "cell_type": "code",
   "execution_count": 78,
   "metadata": {},
   "outputs": [
    {
     "data": {
      "text/plain": [
       "'Hola Mundo Python'"
      ]
     },
     "execution_count": 78,
     "metadata": {},
     "output_type": "execute_result"
    }
   ],
   "source": [
    "# Obsérvese que replace() no altera el valor de la variable sobre el que se ejecuta\n",
    "text"
   ]
  },
  {
   "cell_type": "markdown",
   "metadata": {},
   "source": [
    "#### Métodos strip(), lstrip() y rstrip() \n",
    "\n",
    "Estos metodos nos ayudarán a eliminar todos los\n",
    "espacios en blanco, solo los que aparecen a la izquierda y solo los que se\n",
    "encuentran a la derecha"
   ]
  },
  {
   "cell_type": "code",
   "execution_count": null,
   "metadata": {},
   "outputs": [],
   "source": [
    "# cadena de prueba\n",
    "cad = '    hola mundo python    '\n",
    "cad"
   ]
  },
  {
   "cell_type": "code",
   "execution_count": 82,
   "metadata": {},
   "outputs": [
    {
     "data": {
      "text/plain": [
       "'hola mundo python'"
      ]
     },
     "execution_count": 82,
     "metadata": {},
     "output_type": "execute_result"
    }
   ],
   "source": [
    "# Metodo strip() elimina los espacios en blanco al inicio y final\n",
    "cad.strip()"
   ]
  },
  {
   "cell_type": "code",
   "execution_count": 83,
   "metadata": {},
   "outputs": [
    {
     "data": {
      "text/plain": [
       "'hola mundo python    '"
      ]
     },
     "execution_count": 83,
     "metadata": {},
     "output_type": "execute_result"
    }
   ],
   "source": [
    "# Metodo lstrip() elimina todos los espacios a la derecha\n",
    "cad.lstrip()"
   ]
  },
  {
   "cell_type": "code",
   "execution_count": 84,
   "metadata": {},
   "outputs": [
    {
     "data": {
      "text/plain": [
       "'    hola mundo python'"
      ]
     },
     "execution_count": 84,
     "metadata": {},
     "output_type": "execute_result"
    }
   ],
   "source": [
    "# Metodo rstrip() elimina todos los espacios a la derecha\n",
    "cad.rstrip()"
   ]
  },
  {
   "cell_type": "markdown",
   "metadata": {},
   "source": [
    "#### Metodo upper(), lower(), capitalize()"
   ]
  },
  {
   "cell_type": "code",
   "execution_count": 85,
   "metadata": {},
   "outputs": [
    {
     "data": {
      "text/plain": [
       "'HOLA MUNDO PYTHON'"
      ]
     },
     "execution_count": 85,
     "metadata": {},
     "output_type": "execute_result"
    }
   ],
   "source": [
    "# El metodo upper convierte toda la cadena a mayusculas\n",
    "cad = cad.strip()\n",
    "cad.upper()"
   ]
  },
  {
   "cell_type": "code",
   "execution_count": 86,
   "metadata": {},
   "outputs": [
    {
     "data": {
      "text/plain": [
       "'hola mundo python'"
      ]
     },
     "execution_count": 86,
     "metadata": {},
     "output_type": "execute_result"
    }
   ],
   "source": [
    "# El metodo lower convierte toda la cadena en minusculas\n",
    "cad.lower()"
   ]
  },
  {
   "cell_type": "code",
   "execution_count": 88,
   "metadata": {},
   "outputs": [
    {
     "data": {
      "text/plain": [
       "'Hola mundo python'"
      ]
     },
     "execution_count": 88,
     "metadata": {},
     "output_type": "execute_result"
    }
   ],
   "source": [
    "# El metodo capitalize() convierte el primer caracter en Mayuscula\n",
    "cad.capitalize()"
   ]
  },
  {
   "cell_type": "markdown",
   "metadata": {},
   "source": [
    "#### Split() y join() "
   ]
  },
  {
   "cell_type": "code",
   "execution_count": 1,
   "metadata": {},
   "outputs": [
    {
     "data": {
      "text/plain": [
       "['primer valor', ' segundo valor', ' tercer valor']"
      ]
     },
     "execution_count": 1,
     "metadata": {},
     "output_type": "execute_result"
    }
   ],
   "source": [
    "# split() nos permite dividir na cadena de texto basándonos en\n",
    "# un carácter que aparece repetidamente en ella\n",
    "cadena = \"primer valor; segundo valor; tercer valor\"\n",
    "cadena.split(\";\")\n"
   ]
  },
  {
   "cell_type": "code",
   "execution_count": 7,
   "metadata": {},
   "outputs": [
    {
     "data": {
      "text/plain": [
       "'a,b,d,e,f,r,g,r,f,e'"
      ]
     },
     "execution_count": 7,
     "metadata": {},
     "output_type": "execute_result"
    }
   ],
   "source": [
    "# join() es un método que devuelve una cadena de texto donde los valores de la\n",
    "# cadena original que devuelve el son separados por un separador que llama al \n",
    "# metodo pasando como argumento la cadena a separar\n",
    "cad = 'abdefrgrfe'\n",
    "sep = ','\n",
    "sep.join(cad)"
   ]
  },
  {
   "cell_type": "markdown",
   "metadata": {},
   "source": [
    "### Operaciones con Strings"
   ]
  },
  {
   "cell_type": "code",
   "execution_count": 8,
   "metadata": {},
   "outputs": [
    {
     "name": "stdout",
     "output_type": "stream",
     "text": [
      "Hola Python\n"
     ]
    }
   ],
   "source": [
    "# El operador + nos permite concatenar dos strings, el resultado puede ser\n",
    "# almacenado en una nueva variable:\n",
    "\n",
    "cad = \"Hola \" + \"Python\"\n",
    "print(cad)"
   ]
  },
  {
   "cell_type": "code",
   "execution_count": 10,
   "metadata": {},
   "outputs": [
    {
     "name": "stdout",
     "output_type": "stream",
     "text": [
      "Hola Mundo Python\n"
     ]
    }
   ],
   "source": [
    "t1 = \"Hola \"\n",
    "t2 = \"Mundo Python\"\n",
    "text = t1+t2\n",
    "print(text)"
   ]
  },
  {
   "cell_type": "code",
   "execution_count": 12,
   "metadata": {},
   "outputs": [
    {
     "name": "stdout",
     "output_type": "stream",
     "text": [
      "El Mundo Python es Impresionante\n"
     ]
    }
   ],
   "source": [
    "# Como argumentos del método pueden pasarse variables con los que\n",
    "# serán sustituidas, en tiempo de ejecución, por los marcadores {}, indicados\n",
    "# en la cadena de texto\n",
    "cad = \"El {} Python {}\".format(\"Mundo\",\"es Impresionante\")\n",
    "print(cad)"
   ]
  },
  {
   "cell_type": "code",
   "execution_count": 4,
   "metadata": {},
   "outputs": [
    {
     "name": "stdout",
     "output_type": "stream",
     "text": [
      "El Mundo Python es Impresionante\n"
     ]
    }
   ],
   "source": [
    "cad = \"El {0} Python {1}\".format(\"Mundo\",\"es Impresionante\")\n",
    "print(cad)"
   ]
  },
  {
   "cell_type": "code",
   "execution_count": 2,
   "metadata": {},
   "outputs": [
    {
     "data": {
      "text/plain": [
       "'Numero:3'"
      ]
     },
     "execution_count": 2,
     "metadata": {},
     "output_type": "execute_result"
    }
   ],
   "source": [
    "# Podemos concatenar numeros al hacer uso de la funcion str()\n",
    "\"Numero:\" + str(3)"
   ]
  },
  {
   "cell_type": "code",
   "execution_count": 1,
   "metadata": {},
   "outputs": [
    {
     "data": {
      "text/plain": [
       "'Hola Pythonistas Hola Pythonistas Hola Pythonistas Hola Pythonistas '"
      ]
     },
     "execution_count": 1,
     "metadata": {},
     "output_type": "execute_result"
    }
   ],
   "source": [
    "# Existe un uso interesante  del operador * aplicado a cadenas de texto, ya que\n",
    "# nos permite repetir un string n veces\n",
    "\"Hola Pythonistas \"*4"
   ]
  },
  {
   "cell_type": "markdown",
   "metadata": {},
   "source": [
    "Gracias al **operador in** podemos averiguar si un determinado carácter se\n",
    "encuentra o no en una cadena de texto. Al aplicar el operador, como resultado,\n",
    "**obtendremos True o False**, en función de si el valor se encuentra o no en la\n",
    "cadena. \n",
    "\n",
    "Comprobémoslo en el siguiente ejemplo:"
   ]
  },
  {
   "cell_type": "code",
   "execution_count": 2,
   "metadata": {},
   "outputs": [
    {
     "data": {
      "text/plain": [
       "False"
      ]
     },
     "execution_count": 2,
     "metadata": {},
     "output_type": "execute_result"
    }
   ],
   "source": [
    "cad = \"Probando el operador in\"\n",
    "\"x\" in cad"
   ]
  },
  {
   "cell_type": "code",
   "execution_count": 3,
   "metadata": {},
   "outputs": [
    {
     "data": {
      "text/plain": [
       "True"
      ]
     },
     "execution_count": 3,
     "metadata": {},
     "output_type": "execute_result"
    }
   ],
   "source": [
    "\"in\" in cad"
   ]
  },
  {
   "cell_type": "markdown",
   "metadata": {},
   "source": [
    "Un string es inmutable en Python, pero podemos acceder, a través de índices,\n",
    "a cada carácter que forma parte de la cadena"
   ]
  },
  {
   "cell_type": "code",
   "execution_count": 4,
   "metadata": {},
   "outputs": [
    {
     "data": {
      "text/plain": [
       "'d'"
      ]
     },
     "execution_count": 4,
     "metadata": {},
     "output_type": "execute_result"
    }
   ],
   "source": [
    "text = \"Cadena Prueba\"\n",
    "text[2]"
   ]
  },
  {
   "cell_type": "code",
   "execution_count": 5,
   "metadata": {},
   "outputs": [
    {
     "data": {
      "text/plain": [
       "'Caden'"
      ]
     },
     "execution_count": 5,
     "metadata": {},
     "output_type": "execute_result"
    }
   ],
   "source": [
    "# podemos utilizar indices para obtener subcadenas en python\n",
    "# nos devuelve desde la posicion 0 hasta posicion 5 excluida\n",
    "text[:5]"
   ]
  },
  {
   "cell_type": "code",
   "execution_count": 6,
   "metadata": {},
   "outputs": [
    {
     "data": {
      "text/plain": [
       "'b'"
      ]
     },
     "execution_count": 6,
     "metadata": {},
     "output_type": "execute_result"
    }
   ],
   "source": [
    "# podemos utilizar indices negativos\n",
    "text[-2]"
   ]
  },
  {
   "cell_type": "code",
   "execution_count": 7,
   "metadata": {},
   "outputs": [
    {
     "data": {
      "text/plain": [
       "'a Prueba'"
      ]
     },
     "execution_count": 7,
     "metadata": {},
     "output_type": "execute_result"
    }
   ],
   "source": [
    "#Desde la Posicion 5 hasta el final \n",
    "text[5:]"
   ]
  },
  {
   "cell_type": "markdown",
   "metadata": {},
   "source": [
    "## Tuplas"
   ]
  },
  {
   "cell_type": "markdown",
   "metadata": {},
   "source": [
    "En Python **una tupla es una estructura o variable que permite almacear varios datos inmutables(no pueden ser modificados una ves creados) o datos que representa una colección de objetos, pudiendo estos ser de distintos tipos**. Internamente, para representar\n",
    "una tupla, Python utiliza un array de objetos que almacena referencias hacia\n",
    "otros objetos.\n",
    "**Para declarar una tupla se utilizan paréntesis**, entre los cuales deben separarse\n",
    "por comas los elementos que van a formar parte de ella. \n",
    "\n",
    "En el siguiente ejemplo, crearemos una tupla con tres valores, cada uno de un tipo diferente:"
   ]
  },
  {
   "cell_type": "code",
   "execution_count": 9,
   "metadata": {},
   "outputs": [
    {
     "data": {
      "text/plain": [
       "(1, 'a', 3.5)"
      ]
     },
     "execution_count": 9,
     "metadata": {},
     "output_type": "execute_result"
    }
   ],
   "source": [
    "tupla = (1, 'a', 3.5)\n",
    "tupla"
   ]
  },
  {
   "cell_type": "code",
   "execution_count": 10,
   "metadata": {},
   "outputs": [
    {
     "data": {
      "text/plain": [
       "tuple"
      ]
     },
     "execution_count": 10,
     "metadata": {},
     "output_type": "execute_result"
    }
   ],
   "source": [
    "type(tupla)"
   ]
  },
  {
   "cell_type": "code",
   "execution_count": 12,
   "metadata": {},
   "outputs": [
    {
     "data": {
      "text/plain": [
       "3.5"
      ]
     },
     "execution_count": 12,
     "metadata": {},
     "output_type": "execute_result"
    }
   ],
   "source": [
    "#Los elementos de una tupla son accesibles a través del índice que ocupan en\n",
    "#la misma, exactamente igual que en un array\n",
    "tupla[2]"
   ]
  },
  {
   "cell_type": "code",
   "execution_count": 14,
   "metadata": {},
   "outputs": [
    {
     "data": {
      "text/plain": [
       "tuple"
      ]
     },
     "execution_count": 14,
     "metadata": {},
     "output_type": "execute_result"
    }
   ],
   "source": [
    "# Debemos tener en cuenta que las tuplas son un tipo de dato inmutable, esto\n",
    "# significa que no es posible asignar directamente un valor a través del índice.\n",
    "# A diferencia de otros lenguajes de programación, en Python es posible\n",
    "# declarar una tupla añadiendo una coma al final del último elemento:\n",
    "\n",
    "tup = (1,3,'c','b',)\n",
    "type(tup)"
   ]
  },
  {
   "cell_type": "code",
   "execution_count": 18,
   "metadata": {},
   "outputs": [
    {
     "data": {
      "text/plain": [
       "(1, (1, 3, 'c', 'b'), (1, 'a', 3.5), ('a', 3), 5.6)"
      ]
     },
     "execution_count": 18,
     "metadata": {},
     "output_type": "execute_result"
    }
   ],
   "source": [
    "# Dado que una tupla puede almacenar distintos tipos de objetos, es posible\n",
    "# anidar diferentes tuplas; veamos un sencillo ejemplo de ello:\n",
    "t = (1,tup,tupla,('a',3),5.6)\n",
    "t"
   ]
  },
  {
   "cell_type": "code",
   "execution_count": 19,
   "metadata": {},
   "outputs": [
    {
     "data": {
      "text/plain": [
       "tuple"
      ]
     },
     "execution_count": 19,
     "metadata": {},
     "output_type": "execute_result"
    }
   ],
   "source": [
    "type(t)"
   ]
  },
  {
   "cell_type": "code",
   "execution_count": 21,
   "metadata": {},
   "outputs": [
    {
     "name": "stdout",
     "output_type": "stream",
     "text": [
      "1\n",
      "(1, 3, 'c', 'b')\n",
      "(1, 'a', 3.5)\n",
      "('a', 3)\n",
      "5.6\n"
     ]
    }
   ],
   "source": [
    "#Una de las peculiaridades de las tuplas es que es un objeto iterable; es decir,\n",
    "#con un sencillo bucle for podemos recorrer fácilmente todos sus elementos:\n",
    "\n",
    "for elemento in t:\n",
    "    print(elemento)"
   ]
  },
  {
   "cell_type": "code",
   "execution_count": 22,
   "metadata": {},
   "outputs": [
    {
     "data": {
      "text/plain": [
       "(1, (1, 3, 'c', 'b'), (1, 'a', 3.5), ('a', 3), 5.6, 1, 'a', 3.5)"
      ]
     },
     "execution_count": 22,
     "metadata": {},
     "output_type": "execute_result"
    }
   ],
   "source": [
    "# Concatenar dos tuplas es sencillo, se puede hacer directamente a través del\n",
    "# operador +\n",
    "add_tuple = t+tupla\n",
    "add_tuple"
   ]
  },
  {
   "cell_type": "code",
   "execution_count": 23,
   "metadata": {},
   "outputs": [
    {
     "data": {
      "text/plain": [
       "(1, 'a', 3.5, 1, 'a', 3.5, 1, 'a', 3.5)"
      ]
     },
     "execution_count": 23,
     "metadata": {},
     "output_type": "execute_result"
    }
   ],
   "source": [
    "#Otros de los operadores que se pueden utilizar es *, que sirve para\n",
    "#crear una nueva tupla donde los elementos de la original se repiten n veces\n",
    "\n",
    "tupla*3"
   ]
  },
  {
   "cell_type": "markdown",
   "metadata": {},
   "source": [
    "#### Conversion a Tupla"
   ]
  },
  {
   "cell_type": "code",
   "execution_count": 26,
   "metadata": {},
   "outputs": [
    {
     "data": {
      "text/plain": [
       "('a', 'b', 'c', 'd', 'e', 'f')"
      ]
     },
     "execution_count": 26,
     "metadata": {},
     "output_type": "execute_result"
    }
   ],
   "source": [
    "x='abcdef'\n",
    "tuple(x)"
   ]
  },
  {
   "cell_type": "markdown",
   "metadata": {},
   "source": [
    "### Métodos principales que incluyen las Tuplas\n"
   ]
  },
  {
   "cell_type": "markdown",
   "metadata": {},
   "source": [
    "#### index()"
   ]
  },
  {
   "cell_type": "code",
   "execution_count": 25,
   "metadata": {},
   "outputs": [
    {
     "data": {
      "text/plain": [
       "3"
      ]
     },
     "execution_count": 25,
     "metadata": {},
     "output_type": "execute_result"
    }
   ],
   "source": [
    "# index() recibe como parámetro un valor y devuelve el índice de la\n",
    "# posición que ocupa en la tupla\n",
    "t = (1,3,4,5,7,8,9)\n",
    "t.index(5)"
   ]
  },
  {
   "cell_type": "code",
   "execution_count": 26,
   "metadata": {},
   "outputs": [
    {
     "data": {
      "text/plain": [
       "5"
      ]
     },
     "execution_count": 26,
     "metadata": {},
     "output_type": "execute_result"
    }
   ],
   "source": [
    "t.index(8)"
   ]
  },
  {
   "cell_type": "markdown",
   "metadata": {},
   "source": [
    "#### count()"
   ]
  },
  {
   "cell_type": "code",
   "execution_count": 27,
   "metadata": {},
   "outputs": [
    {
     "data": {
      "text/plain": [
       "2"
      ]
     },
     "execution_count": 27,
     "metadata": {},
     "output_type": "execute_result"
    }
   ],
   "source": [
    "# count() sirve para obtener el número de ocurrencias de un\n",
    "# elemento en una tupla\n",
    "t = (9,8,6,4,2,1,3,5,7,9)\n",
    "t.count(9)"
   ]
  },
  {
   "cell_type": "code",
   "execution_count": 28,
   "metadata": {},
   "outputs": [
    {
     "data": {
      "text/plain": [
       "1"
      ]
     },
     "execution_count": 28,
     "metadata": {},
     "output_type": "execute_result"
    }
   ],
   "source": [
    "t.count(8)"
   ]
  },
  {
   "cell_type": "markdown",
   "metadata": {},
   "source": [
    "#### len()"
   ]
  },
  {
   "cell_type": "code",
   "execution_count": 29,
   "metadata": {},
   "outputs": [
    {
     "data": {
      "text/plain": [
       "10"
      ]
     },
     "execution_count": 29,
     "metadata": {},
     "output_type": "execute_result"
    }
   ],
   "source": [
    "# la funcion len() nos devolvera el numero de elementos de a misma\n",
    "len(t)"
   ]
  },
  {
   "cell_type": "markdown",
   "metadata": {},
   "source": [
    "## Listas"
   ]
  },
  {
   "cell_type": "markdown",
   "metadata": {},
   "source": [
    "Básicamente, una lista es una colección ordenada de objetos, similar al array\n",
    "dinámico empleado en otros lenguajes de programación. Puede contener\n",
    "distintos tipos de objetos, es mutable(permite modificar los datos una ves creada) y Python nos ofrece una serie de funciones\n",
    "y métodos integrados para realizar diferentes tipos de operaciones.\n",
    "**Para definir una lista se utilizan corchetes []** entre los cuales pueden\n",
    "aparecer diferentes valores separados por comas. \n",
    "\n",
    "Esto significa que ambas\n",
    "declaraciones son válidas:"
   ]
  },
  {
   "cell_type": "code",
   "execution_count": 30,
   "metadata": {},
   "outputs": [
    {
     "data": {
      "text/plain": [
       "list"
      ]
     },
     "execution_count": 30,
     "metadata": {},
     "output_type": "execute_result"
    }
   ],
   "source": [
    "lista = []\n",
    "type(lista)"
   ]
  },
  {
   "cell_type": "code",
   "execution_count": 31,
   "metadata": {},
   "outputs": [
    {
     "data": {
      "text/plain": [
       "list"
      ]
     },
     "execution_count": 31,
     "metadata": {},
     "output_type": "execute_result"
    }
   ],
   "source": [
    "lis = [2,4,5,6,7]\n",
    "type(lis)"
   ]
  },
  {
   "cell_type": "code",
   "execution_count": 32,
   "metadata": {},
   "outputs": [
    {
     "name": "stdout",
     "output_type": "stream",
     "text": [
      "2\n",
      "4\n",
      "5\n",
      "6\n",
      "7\n"
     ]
    }
   ],
   "source": [
    "#las listas son también iterables, así pues, podemos\n",
    "#recorrer sus elementos empleando un bucle:\n",
    "\n",
    "for elemento in lis:\n",
    "    print(elemento)   "
   ]
  },
  {
   "cell_type": "code",
   "execution_count": 33,
   "metadata": {},
   "outputs": [
    {
     "data": {
      "text/plain": [
       "[2, 4, 25, 6, 7]"
      ]
     },
     "execution_count": 33,
     "metadata": {},
     "output_type": "execute_result"
    }
   ],
   "source": [
    "# A diferencia de las tuplas, los elementos de las listas pueden ser\n",
    "# reemplazados accediendo directamente a través del índice que ocupan en la lista.\n",
    "# De este modo, para cambiar el segundo elemento de nuestra lista basta con:\n",
    "lis[2]=25\n",
    "lis"
   ]
  },
  {
   "cell_type": "code",
   "execution_count": 34,
   "metadata": {},
   "outputs": [
    {
     "data": {
      "text/plain": [
       "4"
      ]
     },
     "execution_count": 34,
     "metadata": {},
     "output_type": "execute_result"
    }
   ],
   "source": [
    "# Podemos acceder a los valores de la lista con su indice\n",
    "lis[1]"
   ]
  },
  {
   "cell_type": "code",
   "execution_count": 36,
   "metadata": {},
   "outputs": [
    {
     "data": {
      "text/plain": [
       "True"
      ]
     },
     "execution_count": 36,
     "metadata": {},
     "output_type": "execute_result"
    }
   ],
   "source": [
    "# Podemos comprobar si un determinado valor existe en una lista a través del\n",
    "# operado in, que devuelve True en caso afirmativo y False en caso contrario\n",
    "\n",
    "7 in lis"
   ]
  },
  {
   "cell_type": "markdown",
   "metadata": {},
   "source": [
    "#### Conversion a lista"
   ]
  },
  {
   "cell_type": "code",
   "execution_count": 14,
   "metadata": {},
   "outputs": [],
   "source": [
    "cad = 'a b c d e f g h'"
   ]
  },
  {
   "cell_type": "code",
   "execution_count": 16,
   "metadata": {},
   "outputs": [
    {
     "data": {
      "text/plain": [
       "['a', ' ', 'b', ' ', 'c', ' ', 'd', ' ', 'e', ' ', 'f', ' ', 'g', ' ', 'h']"
      ]
     },
     "execution_count": 16,
     "metadata": {},
     "output_type": "execute_result"
    }
   ],
   "source": [
    "list(cad)"
   ]
  },
  {
   "cell_type": "markdown",
   "metadata": {},
   "source": [
    "#### Inserciones y Borrado"
   ]
  },
  {
   "cell_type": "markdown",
   "metadata": {},
   "source": [
    "Para añadir un nuevo elemento a una lista contamos con el **método append().\n",
    "Como parámetro hemos de pasar el valor que deseamos añadir y este será\n",
    "insertado automáticamente al final de la lista.** Volviendo a nuestra lista ejemplo\n",
    "de tres elementos, uno nuevo quedaría insertado a través de la siguiente\n",
    "sentencia:"
   ]
  },
  {
   "cell_type": "code",
   "execution_count": 24,
   "metadata": {},
   "outputs": [],
   "source": [
    "lista = [1,'a','b',2]"
   ]
  },
  {
   "cell_type": "code",
   "execution_count": 39,
   "metadata": {},
   "outputs": [
    {
     "data": {
      "text/plain": [
       "[1, 'a', 'b', 2, 3]"
      ]
     },
     "execution_count": 39,
     "metadata": {},
     "output_type": "execute_result"
    }
   ],
   "source": [
    "lista.append(3)\n",
    "lista"
   ]
  },
  {
   "cell_type": "markdown",
   "metadata": {},
   "source": [
    "El **método insert() sirve para añadir un nuevo elemento\n",
    "especificando el índice. Si pasamos como índice un valor superior al número de\n",
    "elementos de la lista, el valor en cuestión será insertado al final de la misma, sin\n",
    "tener en cuenta el índice pasado como argumento.** De este modo, las siguientes\n",
    "sentencias producirán el mismo resultado, siendo 'c' el nuevo elemento que será\n",
    "insertado en la lista"
   ]
  },
  {
   "cell_type": "code",
   "execution_count": 40,
   "metadata": {},
   "outputs": [
    {
     "data": {
      "text/plain": [
       "[6, 1, 'a', 'b', 2, 3]"
      ]
     },
     "execution_count": 40,
     "metadata": {},
     "output_type": "execute_result"
    }
   ],
   "source": [
    "lista.insert(0, 6)\n",
    "lista"
   ]
  },
  {
   "cell_type": "code",
   "execution_count": null,
   "metadata": {},
   "outputs": [],
   "source": [
    "lista.insert()"
   ]
  },
  {
   "cell_type": "markdown",
   "metadata": {},
   "source": [
    "Si lo que necesitamos es borrar un elemento de una lista, podemos hacerlo\n",
    "gracias a la **función del(), que recibe como argumento la lista junto al índice que\n",
    "referencia al elemento que deseamos eliminar.**"
   ]
  },
  {
   "cell_type": "code",
   "execution_count": 41,
   "metadata": {},
   "outputs": [
    {
     "data": {
      "text/plain": [
       "[1, 'a', 'b', 2, 3]"
      ]
     },
     "execution_count": 41,
     "metadata": {},
     "output_type": "execute_result"
    }
   ],
   "source": [
    "del(lista[0])\n",
    "lista"
   ]
  },
  {
   "cell_type": "code",
   "execution_count": 42,
   "metadata": {},
   "outputs": [
    {
     "data": {
      "text/plain": [
       "5"
      ]
     },
     "execution_count": 42,
     "metadata": {},
     "output_type": "execute_result"
    }
   ],
   "source": [
    "# la funcion len()tambien nos permite obtener el numero de elementos de una lista\n",
    "len(lista)"
   ]
  },
  {
   "cell_type": "code",
   "execution_count": 43,
   "metadata": {},
   "outputs": [
    {
     "data": {
      "text/plain": [
       "[1, 'a', 2, 3]"
      ]
     },
     "execution_count": 43,
     "metadata": {},
     "output_type": "execute_result"
    }
   ],
   "source": [
    "# Si deseamos borrar un elemento de una lista a traves de su valor tenemos el metodo remove()\n",
    "# Si un elemento aparece repetido en la lista, el método remove() solo borrará\n",
    "# la primera ocurrencia que encuentre en la misma.\n",
    "lista.remove('b')\n",
    "lista"
   ]
  },
  {
   "cell_type": "markdown",
   "metadata": {},
   "source": [
    "**Otro método para eliminar elementos es pop()**. A diferencia de **remove(),\n",
    "pop() devuelve el elemento borrado y recibe como argumento el índice del\n",
    "elemento que será eliminado.** Si no se pasa ningún valor como índice, será el\n",
    "último elemento de la lista el eliminado. Este método puede ser útil cuando\n",
    "necesitamos ambas operaciones (borrar y obtener el valor) en una única\n",
    "sentencia."
   ]
  },
  {
   "cell_type": "code",
   "execution_count": 44,
   "metadata": {},
   "outputs": [
    {
     "data": {
      "text/plain": [
       "'a'"
      ]
     },
     "execution_count": 44,
     "metadata": {},
     "output_type": "execute_result"
    }
   ],
   "source": [
    "lista.pop(1)"
   ]
  },
  {
   "cell_type": "code",
   "execution_count": 45,
   "metadata": {},
   "outputs": [
    {
     "data": {
      "text/plain": [
       "[1, 2, 3]"
      ]
     },
     "execution_count": 45,
     "metadata": {},
     "output_type": "execute_result"
    }
   ],
   "source": [
    "lista"
   ]
  },
  {
   "cell_type": "markdown",
   "metadata": {},
   "source": [
    "### Ordenacion"
   ]
  },
  {
   "cell_type": "markdown",
   "metadata": {},
   "source": [
    "Los elementos de una lista pueden ser ordenados a través del **método sort() o\n",
    "utilizando la función sorted().** Como argumento se puede utilizar **reverse con el\n",
    "valor True o False**. Por defecto, se utiliza el segundo valor, el cual indica que la\n",
    "lista será ordenada de mayor a menor. Si por el contrario el valor es True, la lista\n",
    "será ordenada inversamente."
   ]
  },
  {
   "cell_type": "markdown",
   "metadata": {},
   "source": [
    "#### metodo sorted()"
   ]
  },
  {
   "cell_type": "code",
   "execution_count": 27,
   "metadata": {},
   "outputs": [
    {
     "data": {
      "text/plain": [
       "[1, 3, 4, 5, 5, 6, 7, 7, 9, 42]"
      ]
     },
     "execution_count": 27,
     "metadata": {},
     "output_type": "execute_result"
    }
   ],
   "source": [
    "lista = [1,42,3,5,7,4,5,6,7,9]\n",
    "sorted(lista)"
   ]
  },
  {
   "cell_type": "code",
   "execution_count": 28,
   "metadata": {},
   "outputs": [
    {
     "data": {
      "text/plain": [
       "[42, 9, 7, 7, 6, 5, 5, 4, 3, 1]"
      ]
     },
     "execution_count": 28,
     "metadata": {},
     "output_type": "execute_result"
    }
   ],
   "source": [
    "sorted(lista, reverse = True)"
   ]
  },
  {
   "cell_type": "code",
   "execution_count": 29,
   "metadata": {},
   "outputs": [
    {
     "data": {
      "text/plain": [
       "[1, 42, 3, 5, 7, 4, 5, 6, 7, 9]"
      ]
     },
     "execution_count": 29,
     "metadata": {},
     "output_type": "execute_result"
    }
   ],
   "source": [
    "lista\n",
    "# Como podemos observar la funcion sorted nos devuelve la lista ordenada sea de mayor a menor \n",
    "# o de menor a mayor pero la lista original no se altera "
   ]
  },
  {
   "cell_type": "markdown",
   "metadata": {},
   "source": [
    "#### Metodo sort()"
   ]
  },
  {
   "cell_type": "code",
   "execution_count": 52,
   "metadata": {},
   "outputs": [
    {
     "data": {
      "text/plain": [
       "[1, 3, 4, 5, 5, 6, 7, 7, 9, 42]"
      ]
     },
     "execution_count": 52,
     "metadata": {},
     "output_type": "execute_result"
    }
   ],
   "source": [
    "# Si empleamos el metodo sort() la lista quedara innmediatamente modificada\n",
    "lista.sort()\n",
    "lista"
   ]
  },
  {
   "cell_type": "code",
   "execution_count": 30,
   "metadata": {},
   "outputs": [
    {
     "data": {
      "text/plain": [
       "['Ac', 'Bc', 'aA', 'ab', 'bA', 'bb', 'ca', 'cb', 'cc']"
      ]
     },
     "execution_count": 30,
     "metadata": {},
     "output_type": "execute_result"
    }
   ],
   "source": [
    "# el meetodo sort() no solo funciona con numeros:\n",
    "\n",
    "lista = ['aA','bA','cb', 'Bc','ca','bb','ab','cc','Ac']\n",
    "lista.sort()\n",
    "lista"
   ]
  },
  {
   "cell_type": "markdown",
   "metadata": {},
   "source": [
    "#### Metodo reverse()"
   ]
  },
  {
   "cell_type": "code",
   "execution_count": 31,
   "metadata": {},
   "outputs": [
    {
     "data": {
      "text/plain": [
       "['cc', 'cb', 'ca', 'bb', 'bA', 'ab', 'aA', 'Bc', 'Ac']"
      ]
     },
     "execution_count": 31,
     "metadata": {},
     "output_type": "execute_result"
    }
   ],
   "source": [
    "# otro metodo que no permite ordenar las listas en forma reversa es \n",
    "# reverse\n",
    "lista.reverse()\n",
    "lista"
   ]
  },
  {
   "cell_type": "code",
   "execution_count": 32,
   "metadata": {},
   "outputs": [
    {
     "data": {
      "text/plain": [
       "['cc', 'cb', 'ca', 'bb', 'bA', 'ab', 'aA', 'Bc', 'Ac']"
      ]
     },
     "execution_count": 32,
     "metadata": {},
     "output_type": "execute_result"
    }
   ],
   "source": [
    "lista"
   ]
  },
  {
   "cell_type": "markdown",
   "metadata": {},
   "source": [
    "### Compresion"
   ]
  },
  {
   "cell_type": "code",
   "execution_count": 62,
   "metadata": {},
   "outputs": [
    {
     "data": {
      "text/plain": [
       "[1, 2, 3, 4, 5, 6, 7, 8, 9]"
      ]
     },
     "execution_count": 62,
     "metadata": {},
     "output_type": "execute_result"
    }
   ],
   "source": [
    "#La comprensión de listas es una construcción sintáctica de Python que nos\n",
    "#permite declarar una lista a través de la creación de otra.\n",
    "#Veamos un ejemplo práctico para utilizar la mencionada construcción\n",
    "#sintáctica en Python:\n",
    "l1 = [elemento for elemento in (1,2,3,4,5,6,7,8,9)]\n",
    "l1"
   ]
  },
  {
   "cell_type": "code",
   "execution_count": 64,
   "metadata": {},
   "outputs": [
    {
     "data": {
      "text/plain": [
       "[0, 5, 10, 15, 20, 25, 30, 35, 40, 45]"
      ]
     },
     "execution_count": 64,
     "metadata": {},
     "output_type": "execute_result"
    }
   ],
   "source": [
    "l2 = [elemento for elemento in range(0,50,5)]\n",
    "l2"
   ]
  },
  {
   "cell_type": "markdown",
   "metadata": {},
   "source": [
    "## Matrices"
   ]
  },
  {
   "cell_type": "markdown",
   "metadata": {},
   "source": [
    "Anidando listas podemos construir matrices de elementos. Estas estructuras\n",
    "de datos son muy útiles para operaciones matemáticas. Debemos tener en cuenta\n",
    "que complejos problemas matemáticos son resueltos empleando matrices.\n",
    "Además, también son prácticas para almacenar ciertos datos, aunque no se traten\n",
    "estrictamente de representar matrices en el sentido matemático."
   ]
  },
  {
   "cell_type": "code",
   "execution_count": 68,
   "metadata": {},
   "outputs": [
    {
     "name": "stdout",
     "output_type": "stream",
     "text": [
      "[[4, 5, 6], [1, 2, 3]]\n"
     ]
    },
    {
     "data": {
      "text/plain": [
       "list"
      ]
     },
     "execution_count": 68,
     "metadata": {},
     "output_type": "execute_result"
    }
   ],
   "source": [
    "# Matriz de de dos dimensiones\n",
    "\n",
    "matriz = [[4,5,6],[1,2,3]]\n",
    "print(matriz)\n",
    "type(matriz)"
   ]
  },
  {
   "cell_type": "code",
   "execution_count": 69,
   "metadata": {},
   "outputs": [
    {
     "data": {
      "text/plain": [
       "3"
      ]
     },
     "execution_count": 69,
     "metadata": {},
     "output_type": "execute_result"
    }
   ],
   "source": [
    "# Para acceder a un elemento basta con\n",
    "matriz[1][2]"
   ]
  },
  {
   "cell_type": "code",
   "execution_count": 70,
   "metadata": {},
   "outputs": [
    {
     "data": {
      "text/plain": [
       "[[66, 5, 6], [1, 2, 3]]"
      ]
     },
     "execution_count": 70,
     "metadata": {},
     "output_type": "execute_result"
    }
   ],
   "source": [
    "# para cambiar un elemento de una matriz\n",
    "matriz[0][0]=66\n",
    "matriz"
   ]
  },
  {
   "cell_type": "markdown",
   "metadata": {},
   "source": [
    "## Diccionarios"
   ]
  },
  {
   "cell_type": "markdown",
   "metadata": {},
   "source": [
    "Un diccionario es una estructura de datos que almacena una serie de valores utilizando otros como referencia para su acceso y almacenamiento. Cada elemento de un diccionario es un par clave-valor donde el primero debe ser único y será usado para acceder al valor que contiene. A diferencia de las tuplas y las listas, los diccionarios no cuentan con un orden específico, siendo el intérprete de Python el encargado de decidir el orden de almacenamiento. Sin embargo, un diccionario es iterable, mutable y representa una colección de objetos que pueden ser de diferentes tipos.\n",
    "\n",
    "Gracias a su flexibilidad y rapidez de acceso, los diccionarios son una de las\n",
    "estructuras de datos más utilizadas en Python.\n",
    "\n",
    "Para declarar un diccionario en Python se utilizan las llaves {} entre las que se encuentran los pares clave-valor separados por comas. La clave de cada elemento aparece separada del correspondiente valor por el carácter."
   ]
  },
  {
   "cell_type": "code",
   "execution_count": 72,
   "metadata": {},
   "outputs": [
    {
     "data": {
      "text/plain": [
       "{'a': 1, 'b': 2, 'c': 3}"
      ]
     },
     "execution_count": 72,
     "metadata": {},
     "output_type": "execute_result"
    }
   ],
   "source": [
    "dicc = {'a':1, 'b':2, 'c':3}\n",
    "dicc"
   ]
  },
  {
   "cell_type": "code",
   "execution_count": 73,
   "metadata": {},
   "outputs": [
    {
     "data": {
      "text/plain": [
       "dict"
      ]
     },
     "execution_count": 73,
     "metadata": {},
     "output_type": "execute_result"
    }
   ],
   "source": [
    "type(dicc)"
   ]
  },
  {
   "cell_type": "code",
   "execution_count": 75,
   "metadata": {},
   "outputs": [
    {
     "data": {
      "text/plain": [
       "{'a': 1, 'b': 2, 'c': 3}"
      ]
     },
     "execution_count": 75,
     "metadata": {},
     "output_type": "execute_result"
    }
   ],
   "source": [
    "# Tambien podemos usar la funcion dict que tambien nos permite crear un diccionario\n",
    "# de esta forma el siguiente ejemplo es similar al anterior\n",
    "dicc2 = dict(a=1,b=2,c=3)\n",
    "dicc2"
   ]
  },
  {
   "cell_type": "code",
   "execution_count": 76,
   "metadata": {},
   "outputs": [
    {
     "data": {
      "text/plain": [
       "dict"
      ]
     },
     "execution_count": 76,
     "metadata": {},
     "output_type": "execute_result"
    }
   ],
   "source": [
    "type(dicc2)"
   ]
  },
  {
   "cell_type": "markdown",
   "metadata": {},
   "source": [
    "### Acceso,Insercciones y Borrado"
   ]
  },
  {
   "cell_type": "code",
   "execution_count": 78,
   "metadata": {},
   "outputs": [
    {
     "data": {
      "text/plain": [
       "1"
      ]
     },
     "execution_count": 78,
     "metadata": {},
     "output_type": "execute_result"
    }
   ],
   "source": [
    "# en los diccionarios necesitamos utilizar la clave para\n",
    "# acceder al valor de cada elemento.\n",
    "dicc['a']"
   ]
  },
  {
   "cell_type": "code",
   "execution_count": 79,
   "metadata": {},
   "outputs": [
    {
     "data": {
      "text/plain": [
       "{'a': 1, 'b': 2, 'c': 45}"
      ]
     },
     "execution_count": 79,
     "metadata": {},
     "output_type": "execute_result"
    }
   ],
   "source": [
    "# para modificar un valor debemos acceder por su palabra clave\n",
    "dicc['c'] =45\n",
    "dicc"
   ]
  },
  {
   "cell_type": "code",
   "execution_count": 80,
   "metadata": {},
   "outputs": [
    {
     "data": {
      "text/plain": [
       "{'a': 1, 'b': 2, 'c': 45, 'd': 5}"
      ]
     },
     "execution_count": 80,
     "metadata": {},
     "output_type": "execute_result"
    }
   ],
   "source": [
    "# Añadir un nuevo elemento es tan sencillo como modificar uno ya existente,\n",
    "# ya que si la clave no existe, automáticamente Python la añadirá con su\n",
    "# correspondiente valor\n",
    "\n",
    "dicc['d'] = 5\n",
    "dicc"
   ]
  },
  {
   "cell_type": "markdown",
   "metadata": {},
   "source": [
    " Existen 3 métodos principales que nos permiten iterar sobre un\n",
    " diccionario: **items(), values() y keys()**. El primero nos da acceso tanto a claves\n",
    " como a valores, el segundo se encarga de devolvernos los valores, y el tercero y\n",
    " último es el que nos devuelve las claves del diccionario."
   ]
  },
  {
   "cell_type": "markdown",
   "metadata": {},
   "source": [
    "#### items()"
   ]
  },
  {
   "cell_type": "code",
   "execution_count": 81,
   "metadata": {},
   "outputs": [
    {
     "name": "stdout",
     "output_type": "stream",
     "text": [
      "clave: a, valor:1\n",
      "clave: b, valor:2\n",
      "clave: c, valor:45\n",
      "clave: d, valor:5\n"
     ]
    }
   ],
   "source": [
    "# items(), nos da acceso tanto a claves como a valores.\n",
    "for k,v in dicc.items():\n",
    "    print(\"clave: {}, valor:{}\".format(k, v))"
   ]
  },
  {
   "cell_type": "markdown",
   "metadata": {},
   "source": [
    "#### values()"
   ]
  },
  {
   "cell_type": "code",
   "execution_count": 82,
   "metadata": {},
   "outputs": [
    {
     "name": "stdout",
     "output_type": "stream",
     "text": [
      "valor:1\n",
      "valor:2\n",
      "valor:45\n",
      "valor:5\n"
     ]
    }
   ],
   "source": [
    "# values(), nos da acceso a valores.\n",
    "for v in dicc.values():\n",
    "    print(\"valor:{}\".format(v))"
   ]
  },
  {
   "cell_type": "markdown",
   "metadata": {},
   "source": [
    "#### keys()"
   ]
  },
  {
   "cell_type": "code",
   "execution_count": 83,
   "metadata": {},
   "outputs": [
    {
     "name": "stdout",
     "output_type": "stream",
     "text": [
      "clave:a\n",
      "clave:b\n",
      "clave:c\n",
      "clave:d\n"
     ]
    }
   ],
   "source": [
    "# keys(), nos da acceso a las claves.\n",
    "for k in dicc.keys():\n",
    "    print(\"clave:{}\".format(k))"
   ]
  },
  {
   "cell_type": "code",
   "execution_count": 84,
   "metadata": {},
   "outputs": [
    {
     "name": "stdout",
     "output_type": "stream",
     "text": [
      "a\n",
      "b\n",
      "c\n",
      "d\n"
     ]
    }
   ],
   "source": [
    "# Por defecto, si iteramos sobre un diccionario con un bucle for, obtendremos\n",
    "# las claves del mismo sin necesidad de llamar explícitamente al método keys():\n",
    "for k in dicc:\n",
    "    print(k)"
   ]
  },
  {
   "cell_type": "code",
   "execution_count": 89,
   "metadata": {},
   "outputs": [
    {
     "data": {
      "text/plain": [
       "[1, 2, 45, 5]"
      ]
     },
     "execution_count": 89,
     "metadata": {},
     "output_type": "execute_result"
    }
   ],
   "source": [
    "# podemos crear una lista de claves con compresion\n",
    "clave_dicc = [elemento for elemento in dicc.values()]\n",
    "clave_dicc"
   ]
  },
  {
   "cell_type": "code",
   "execution_count": 90,
   "metadata": {},
   "outputs": [
    {
     "data": {
      "text/plain": [
       "['a', 'b', 'c', 'd']"
      ]
     },
     "execution_count": 90,
     "metadata": {},
     "output_type": "execute_result"
    }
   ],
   "source": [
    "# creamos una lista de valores\n",
    "key_dicc = [key for key in dicc.keys()]\n",
    "key_dicc"
   ]
  },
  {
   "cell_type": "markdown",
   "metadata": {},
   "source": [
    "#### del()"
   ]
  },
  {
   "cell_type": "code",
   "execution_count": 93,
   "metadata": {},
   "outputs": [
    {
     "data": {
      "text/plain": [
       "{'b': 2, 'c': 45, 'd': 5}"
      ]
     },
     "execution_count": 93,
     "metadata": {},
     "output_type": "execute_result"
    }
   ],
   "source": [
    "# la funcion del() nos ayudara a eliminar un valor de un diccionario\n",
    "del(dicc['a'])\n",
    "dicc"
   ]
  },
  {
   "cell_type": "markdown",
   "metadata": {},
   "source": [
    "#### pop()"
   ]
  },
  {
   "cell_type": "code",
   "execution_count": 94,
   "metadata": {},
   "outputs": [
    {
     "data": {
      "text/plain": [
       "{'c': 45, 'd': 5}"
      ]
     },
     "execution_count": 94,
     "metadata": {},
     "output_type": "execute_result"
    }
   ],
   "source": [
    "# El metodo pop tambien se puede usar para eliminar un componente\n",
    "dicc.pop('b')\n",
    "dicc"
   ]
  },
  {
   "cell_type": "code",
   "execution_count": 95,
   "metadata": {},
   "outputs": [
    {
     "data": {
      "text/plain": [
       "['c', 'd']"
      ]
     },
     "execution_count": 95,
     "metadata": {},
     "output_type": "execute_result"
    }
   ],
   "source": []
  },
  {
   "cell_type": "markdown",
   "metadata": {},
   "source": [
    "# SENTENCIAS DE CONTROL, MODULOS Y FUNCIONES"
   ]
  },
  {
   "cell_type": "markdown",
   "metadata": {},
   "source": [
    "Las sentencias de control es uno de los primeros aspectos que deben ser\n",
    "abordados durante el aprendizaje de un lenguaje de programación. Entre las\n",
    "sentencias de las que dispone Python, las básicas son las que nos permiten crear\n",
    "condiciones y realizar iteraciones. Es por ello que dedicaremos el primer\n",
    "apartado de este capítulo a las mismas.\n",
    "\n",
    "\n",
    "Continuaremos entrando de lleno en uno de los principales conceptos de la\n",
    "programación, las funciones. Aprenderemos cómo se definen, cómo\n",
    "son tratadas por el intérprete y cómo pasar parámetros. Además, presentaremos a\n",
    "un tipo especial llamado lambda, muy utilizado en programación funcional.\n",
    "Python permite agrupar nuestro código en módulos y paquetes, gracias a los\n",
    "cuales podemos organizar adecuadamente nuestros programas. De ellos\n",
    "hablaremos a continuación de las funciones.\n",
    "\n",
    "\n",
    "Por último, veremos qué son las excepciones y cómo podemos trabajar con\n",
    "ellas en Python. El mecanismo de tratamiento de excepciones nos ahorra muchos\n",
    "problemas en tiempos de ejecución y se ha convertido en una de las más\n",
    "importantes funcionalidades que incorporan los modernos lenguajes de\n",
    "programación"
   ]
  },
  {
   "cell_type": "markdown",
   "metadata": {},
   "source": [
    "#### Primeros pasos hacia la programación\n",
    "\n",
    "Por supuesto, podemos usar Python para tareas más complicadas que sumar dos y dos. Por ejemplo, podemos escribir una\n",
    "subsecuencia inicial de la serie de Fibonacci así:"
   ]
  },
  {
   "cell_type": "code",
   "execution_count": 37,
   "metadata": {},
   "outputs": [
    {
     "name": "stdout",
     "output_type": "stream",
     "text": [
      "1\n",
      "1\n",
      "2\n",
      "3\n",
      "5\n",
      "8\n"
     ]
    }
   ],
   "source": [
    "a,b=0,1\n",
    "\n",
    "while b<10:\n",
    "    print(b)\n",
    "    a,b = b, a+b"
   ]
  },
  {
   "cell_type": "markdown",
   "metadata": {},
   "source": [
    "La primer línea contiene una asignación múltiple: las variables a y b toman en forma simultanea los nuevos valores 0 y 1. En la última linea esto se vuelve a usar, demostrando que las expresiones a la derecha son evaluadas antes de que suceda cualquier asignación. Las expresiones a la derecha son evaluadas de izquierda a derecha.\n",
    "\n",
    "\n",
    "• El bucle while se ejecuta mientras la condición (aquí: b < 10) sea verdadera. En Python, como en C, cualquier entero distinto de cero es verdadero; cero es falso. La condición también puede ser una cadena de texto o una lista, de hecho cualquier secuencia; cualquier cosa con longitud distinta de cero es verdadero, las secuencias vacías son falsas. La prueba usada en el ejemplo es una comparación simple. Los operadores estándar de comparación se escriben igual que en C: < (menor qué), > (mayor qué), == (igual a), <= (menor o igual qué), >= (mayor o igual qué) y != (distinto a).\n",
    "\n",
    "\n",
    "• El cuerpo del bucle está sangrado: la sangría es la forma que usa Python para agrupar declaraciones. En el intérprete interactivo debés teclear un tab o espacio(s) para cada línea sangrada. En la práctica vas a preparar entradas más complicadas para Python con un editor de texto; todos los editores de texto decentes tienen la facilidad de agregar la sangría automáticamente. Al ingresar una declaración compuesta en forma interactiva, debés finalizar con una línea en blanco para indicar que está completa (ya que el analizador no puede adivinar cuando tecleaste la última línea). Notá que cada línea de un bloque básico debe estar sangrada de la misma forma.\n",
    "\n",
    "\n",
    "• La función print() escribe el valor de el o los argumentos que se le pasan. Difiere de simplemente escribir la expresión que se quiere mostrar (como hicimos antes en los ejemplos de la calculadora) en la forma en que maneja múltiples argumentos, cantidades en punto flotante, y cadenas. Las cadenas de texto son impresas sin comillas, y un espacio en blanco es insertado entre los elementos, así podés formatear cosas de una forma agradable"
   ]
  },
  {
   "cell_type": "markdown",
   "metadata": {},
   "source": [
    "## Sentencias de Control"
   ]
  },
  {
   "cell_type": "markdown",
   "metadata": {},
   "source": [
    "Al igual que otros lenguajes de programación, Python incorpora una serie de\n",
    "sentencias de control. Entre ellas, encontramos algunas tan básicas y comunes a\n",
    "otros lenguajes como if/else, while y for, y otras específicas como pass y with. A\n",
    "continuación"
   ]
  },
  {
   "cell_type": "markdown",
   "metadata": {},
   "source": [
    "### if, else y elif"
   ]
  },
  {
   "cell_type": "markdown",
   "metadata": {},
   "source": [
    "La sentencia if/else funciona evaluando la condición indicada, si el resultado\n",
    "es True se ejecutará la siguiente sentencia o sentencias, en caso negativo se\n",
    "ejecutarán las sentencias que aparecen a continuación. Recordemos que\n",
    "Python utiliza la indentación para establecer sentencias que pertenecen al mismo\n",
    "bloque. Además, en el carácter dos puntos (:) indica el comienzo de bloque"
   ]
  },
  {
   "cell_type": "code",
   "execution_count": 96,
   "metadata": {},
   "outputs": [
    {
     "name": "stdout",
     "output_type": "stream",
     "text": [
      "dentro del if\n"
     ]
    }
   ],
   "source": [
    "# if, else\n",
    "x=2\n",
    "y=2\n",
    "if x==y:\n",
    "    print(\"dentro del if\")\n",
    "    \n",
    "else:\n",
    "    print('dentro del else')"
   ]
  },
  {
   "cell_type": "code",
   "execution_count": 97,
   "metadata": {},
   "outputs": [
    {
     "name": "stdout",
     "output_type": "stream",
     "text": [
      "dentro del else\n"
     ]
    }
   ],
   "source": [
    "x=2\n",
    "y=4\n",
    "if (x==y):\n",
    "    print(\"dentro del if\")\n",
    "    \n",
    "else:\n",
    "    print('dentro del else')"
   ]
  },
  {
   "cell_type": "markdown",
   "metadata": {},
   "source": [
    "Obviamente, también es posible utilizar solo la sentencia if para comprobar si\n",
    "se cumple una determinada condición y actuar en consecuencia. Además,\n",
    "podemos anidar diferentes niveles de comprobación a través de elif:"
   ]
  },
  {
   "cell_type": "code",
   "execution_count": 9,
   "metadata": {},
   "outputs": [
    {
     "name": "stdout",
     "output_type": "stream",
     "text": [
      "Ingrese un Numero  8\n",
      "5 * 8 = 40\n"
     ]
    }
   ],
   "source": [
    "y=5\n",
    "x =int(input(\"Ingrese un Numero  \"))\n",
    "if(x==1):\n",
    "    a=x*y\n",
    "    print(\"5 * {0} = {1}\".format(x,a))\n",
    "elif(x==2):\n",
    "    a=x*y\n",
    "    print(\"5 * {0} = {1}\".format(x,a))\n",
    "elif(x==3):\n",
    "    a=x*y\n",
    "    print(\"5 * {0} = {1}\".format(x,a))\n",
    "elif(x==4):\n",
    "    a=x*y\n",
    "    print(\"5 * {0} = {1}\".format(x,a))\n",
    "elif(x==5):\n",
    "    a=x*y\n",
    "    print(\"5 * {0} = {1}\".format(x,a))\n",
    "else:\n",
    "    a=x*y\n",
    "    print(\"5 * {0} = {1}\".format(x,a))\n",
    "    \n",
    "    \n",
    "    "
   ]
  },
  {
   "cell_type": "markdown",
   "metadata": {},
   "source": [
    "A diferencia de otros lenguajes de Programacion, los paréntesis para indicar las condiciones han sido omitidos. Para Python son opcionales y habitualmente no suelen ser utilizados. Por otro lado, a\n",
    "pesar de que Python emplea la indentación, también es posible escribir una única\n",
    "sentencia a continuación del final de la condición. Así pues, la siguiente línea de\n",
    "código es válida:"
   ]
  },
  {
   "cell_type": "code",
   "execution_count": 11,
   "metadata": {},
   "outputs": [
    {
     "name": "stdout",
     "output_type": "stream",
     "text": [
      "Ingrese un Numero : 8\n",
      "Ingrese otro Numero : 7\n",
      "8 es mayor que 7\n"
     ]
    }
   ],
   "source": [
    "a = int(input(\"Ingrese un Numero : \"))\n",
    "b = int(input(\"Ingrese otro Numero : \"))\n",
    "\n",
    "if(a>b): print(\"{} es mayor que {}\".format(a,b))\n",
    "\n",
    "else: print(\"{} es mayor que {}\".format(b,a))"
   ]
  },
  {
   "cell_type": "markdown",
   "metadata": {},
   "source": [
    "### for y while"
   ]
  },
  {
   "cell_type": "markdown",
   "metadata": {},
   "source": [
    "Para iterar contamos con dos sentencias que nos ayudarán a crear bucles, nos\n",
    "referimos a for y a while. La primera de ellas aplica una serie de sentencias sobre\n",
    "cada uno de los elementos que contiene el objeto sobre el que aplicamos la\n",
    "sentencia for. Python incorpora una función llamada range() que podemos\n",
    "utilizar para iterar sobre una serie de valores. Por ejemplo, echemos un vistazo al\n",
    "siguiente ejemplo:"
   ]
  },
  {
   "cell_type": "code",
   "execution_count": 12,
   "metadata": {},
   "outputs": [
    {
     "name": "stdout",
     "output_type": "stream",
     "text": [
      "1\n",
      "2\n",
      "3\n",
      "4\n",
      "5\n"
     ]
    }
   ],
   "source": [
    "for x in range(1,6):\n",
    "    print(x)"
   ]
  },
  {
   "cell_type": "code",
   "execution_count": 15,
   "metadata": {},
   "outputs": [
    {
     "name": "stdout",
     "output_type": "stream",
     "text": [
      "1\n",
      "3\n",
      "5\n"
     ]
    }
   ],
   "source": [
    "# tambien podemos configurar el paso\n",
    "for x in range(1,7,2):\n",
    "    print(x)"
   ]
  },
  {
   "cell_type": "code",
   "execution_count": 20,
   "metadata": {},
   "outputs": [
    {
     "name": "stdout",
     "output_type": "stream",
     "text": [
      "(0, 1)\n",
      "(1, 2)\n",
      "(2, 3)\n",
      "(3, 4)\n",
      "(4, 55)\n",
      "(5, 66)\n",
      "(6, 75)\n",
      "(7, 84)\n",
      "(8, 93)\n"
     ]
    }
   ],
   "source": [
    "# enumerando una lista\n",
    "lista = [1,2,3,4,55,66,75,84,93]\n",
    "for x in enumerate(lista):\n",
    "    print(x)"
   ]
  },
  {
   "cell_type": "markdown",
   "metadata": {},
   "source": [
    "Es muy común iterar a través de for sobre los elementos de una tupla o de una lista directamente:"
   ]
  },
  {
   "cell_type": "code",
   "execution_count": 19,
   "metadata": {},
   "outputs": [
    {
     "name": "stdout",
     "output_type": "stream",
     "text": [
      "1\n",
      "2\n",
      "3\n",
      "4\n",
      "5\n",
      "6\n",
      "7\n",
      "8\n",
      "9\n"
     ]
    }
   ],
   "source": [
    "for elemento in lista:\n",
    "    print(elemento)"
   ]
  },
  {
   "cell_type": "markdown",
   "metadata": {},
   "source": [
    "#### Uso del break"
   ]
  },
  {
   "cell_type": "code",
   "execution_count": 40,
   "metadata": {},
   "outputs": [
    {
     "name": "stdout",
     "output_type": "stream",
     "text": [
      "3 es un numero primo\n",
      "4 es igual a 2 * 2.0\n",
      "5 es un numero primo\n",
      "6 es igual a 2 * 3.0\n",
      "7 es un numero primo\n",
      "8 es igual a 2 * 4.0\n",
      "9 es un numero primo\n"
     ]
    }
   ],
   "source": [
    "#  Ejemplo encontramos los numero primos\n",
    "\n",
    "for n in range(2, 10):\n",
    "\n",
    "    for x in range(2, n):\n",
    "    \n",
    "        if n % x == 0:\n",
    "\n",
    "            print(n, 'es igual a', x, '*', n/x)\n",
    "            break\n",
    "\n",
    "        else:\n",
    "        # sigue el bucle sin encontrar un factor\n",
    "            print(n, 'es un numero primo')\n",
    "            break"
   ]
  },
  {
   "cell_type": "markdown",
   "metadata": {},
   "source": [
    "#### Uso del continue"
   ]
  },
  {
   "cell_type": "code",
   "execution_count": 41,
   "metadata": {},
   "outputs": [
    {
     "name": "stdout",
     "output_type": "stream",
     "text": [
      "2 es par \n",
      "3 es impar \n",
      "4 es par \n",
      "5 es impar \n",
      "6 es par \n",
      "7 es impar \n",
      "8 es par \n",
      "9 es impar \n"
     ]
    }
   ],
   "source": [
    "for x in range(2,10):\n",
    "    if x%2==0:\n",
    "        print('{} es par '.format(x))\n",
    "        continue\n",
    "    print('{} es impar '.format(x))"
   ]
  },
  {
   "cell_type": "markdown",
   "metadata": {},
   "source": [
    "#### while\n",
    "Otra sentencia utilizada para iterar es while, la cual ejecuta una serie de\n",
    "sentencias siempre y cuando se cumpla una determinada condición o\n",
    "condiciones.\n",
    "Para salir del bucle podemos utilizar diferentes técnicas. La más sencilla es\n",
    "cambiar la condición o condiciones iniciales para así dejar que se cumplan y\n",
    "detener la iteración. Otra técnica es llamar directamente a break que provocará la\n",
    "salida inmediata del bucle. Esta última sentencia también funciona con for. A\n",
    "continuación, veamos un ejemplo de cómo utilizar while:"
   ]
  },
  {
   "cell_type": "code",
   "execution_count": 3,
   "metadata": {},
   "outputs": [
    {
     "name": "stdout",
     "output_type": "stream",
     "text": [
      "1 es impar \n",
      "2 es par \n",
      "3 es impar \n",
      "4 es par \n",
      "5 es impar \n",
      "6 es par \n",
      "7 es impar \n",
      "8 es par \n",
      "9 es impar \n",
      "10 es par \n"
     ]
    }
   ],
   "source": [
    "x=0\n",
    "while(x<10):\n",
    "    x+=1\n",
    "    if x%2==0:\n",
    "        print('{} es par '.format(x))\n",
    "        continue\n",
    "    print('{} es impar '.format(x))\n"
   ]
  },
  {
   "cell_type": "markdown",
   "metadata": {},
   "source": [
    "## Funciones"
   ]
  },
  {
   "cell_type": "markdown",
   "metadata": {},
   "source": [
    "\n",
    "Cuando de desarrolla programas de cierto tamaño interesa organizar el codigo para que sea lo mas claro posible, no solo para que otros puedan entenderlo, sino para poder entenderlo uno mismo(es sorprendete como al cabo de unos meses podemos no ser capaces de entender un codigo que hemos escrito si este no esta bien organizado y comentado)\n",
    "\n",
    "Uno de los defectos del software que hay que evitar a toda costa es el uso de codigo redundante. Si tenemos una porcion de codigo que realiza una operacion y esa misma operacion ha de realizarse en distintos puntos de aplicacion, conviene separar ese codigo en una funcion reutilizable.\n",
    "\n",
    "En programación estructurada, las funciones son uno de los elementos\n",
    "básicos. Una función es un conjunto de sentencias que pueden ser invocadas\n",
    "varias veces durante la ejecución de un programa. Las ventajas de su uso son\n",
    "claras, entre ellas, la minimización de código, el aumento de la legibilidad y la\n",
    "fomentación de la reutilización de código.\n",
    "\n",
    "Internamente, al definir una función, Python crea un nuevo objeto y le asigna\n",
    "el nombre dado para la función. De hecho, una función puede ser asignada a una\n",
    "variable o almacenada en una lista.\n",
    "La palabra reservada def nos servirá\n",
    "para definir una función. Seguidamente deberemos emplear un nombre y,\n",
    "opcionalmente, una serie de argumentos. Esta será nuestra primera función:"
   ]
  },
  {
   "cell_type": "code",
   "execution_count": 5,
   "metadata": {},
   "outputs": [
    {
     "name": "stdout",
     "output_type": "stream",
     "text": [
      "testeado correcto\n"
     ]
    }
   ],
   "source": [
    "def test():\n",
    "    print('testeado correcto')\n",
    "test()"
   ]
  },
  {
   "cell_type": "markdown",
   "metadata": {},
   "source": [
    "### Funciones con Parametros"
   ]
  },
  {
   "cell_type": "markdown",
   "metadata": {},
   "source": [
    "En los ejemplos previos hemos utilizado una función sin argumentos y, por lo\n",
    "tanto, para invocar a la misma no hemos utilizado ningún parámetro. Sin\n",
    "embargo, las funciones pueden trabajar con parámetros y devolver resultados. En\n",
    "Python, el paso de parámetros implica la asignación de un nombre a un objeto.\n",
    "Esto significa que, en la práctica, el paso de parámetros ocurre por valor o por\n",
    "referencia en función de si los tipos de los argumentos son mutables o\n",
    "inmutables"
   ]
  }
 ],
 "metadata": {
  "kernelspec": {
   "display_name": "Python 3",
   "language": "python",
   "name": "python3"
  },
  "language_info": {
   "codemirror_mode": {
    "name": "ipython",
    "version": 3
   },
   "file_extension": ".py",
   "mimetype": "text/x-python",
   "name": "python",
   "nbconvert_exporter": "python",
   "pygments_lexer": "ipython3",
   "version": "3.6.10"
  }
 },
 "nbformat": 4,
 "nbformat_minor": 4
}
